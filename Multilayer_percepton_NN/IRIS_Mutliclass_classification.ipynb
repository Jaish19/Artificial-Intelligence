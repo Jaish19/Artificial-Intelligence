{
  "nbformat": 4,
  "nbformat_minor": 0,
  "metadata": {
    "colab": {
      "name": "Untitled5.ipynb",
      "provenance": []
    },
    "kernelspec": {
      "name": "python3",
      "display_name": "Python 3"
    }
  },
  "cells": [
    {
      "cell_type": "markdown",
      "metadata": {
        "id": "NC7eubPQmWOq",
        "colab_type": "text"
      },
      "source": [
        "# **MLP for Iris dataset - multi-class problem**"
      ]
    },
    {
      "cell_type": "code",
      "metadata": {
        "id": "sKjCl1twmU8E",
        "colab_type": "code",
        "colab": {}
      },
      "source": [
        "!git clone https://github.com/Jaish19/Artificial-Intelligence.git"
      ],
      "execution_count": 0,
      "outputs": []
    },
    {
      "cell_type": "code",
      "metadata": {
        "id": "hVV34Zg2mTis",
        "colab_type": "code",
        "colab": {}
      },
      "source": [
        "!ls"
      ],
      "execution_count": 0,
      "outputs": []
    },
    {
      "cell_type": "markdown",
      "metadata": {
        "id": "EGD29u_ImvJO",
        "colab_type": "text"
      },
      "source": [
        "**Import Packages**"
      ]
    },
    {
      "cell_type": "code",
      "metadata": {
        "id": "-P6U-cRVms8_",
        "colab_type": "code",
        "colab": {}
      },
      "source": [
        "import numpy\n",
        "from pandas import read_csv\n",
        "from keras.models import Sequential\n",
        "from keras.layers import Dense\n",
        "from keras.wrappers.scikit_learn import KerasClassifier\n",
        "from keras.utils import np_utils\n",
        "from sklearn.model_selection import cross_val_score\n",
        "from sklearn.model_selection import KFold\n",
        "from sklearn.preprocessing import LabelEncoder\n",
        "from sklearn.pipeline import Pipeline"
      ],
      "execution_count": 0,
      "outputs": []
    },
    {
      "cell_type": "code",
      "metadata": {
        "id": "Mp_ukB8wm0vu",
        "colab_type": "code",
        "colab": {}
      },
      "source": [
        "seed = 7\n",
        "numpy.random.seed(seed)"
      ],
      "execution_count": 0,
      "outputs": []
    },
    {
      "cell_type": "markdown",
      "metadata": {
        "id": "gCBQzg_dm5w3",
        "colab_type": "text"
      },
      "source": [
        "**Loading and Splitting input and output**"
      ]
    },
    {
      "cell_type": "code",
      "metadata": {
        "id": "bqdmvRu0m-LL",
        "colab_type": "code",
        "colab": {}
      },
      "source": [
        "dataframe = read_csv(\"/content/Artificial-Intelligence/Multilayer_percepton_NN/iris.csv\", header=None)\n",
        "dataset = dataframe.values\n",
        "X = dataset[:,0:4].astype(float)\n",
        "Y = dataset[:,4]"
      ],
      "execution_count": 0,
      "outputs": []
    },
    {
      "cell_type": "markdown",
      "metadata": {
        "id": "fMa-sno4nJbi",
        "colab_type": "text"
      },
      "source": [
        "**encode class values as integers**"
      ]
    },
    {
      "cell_type": "code",
      "metadata": {
        "id": "y-zNL-ZhnM4_",
        "colab_type": "code",
        "colab": {}
      },
      "source": [
        "encoder = LabelEncoder()\n",
        "encoder.fit(Y)\n",
        "encoded_Y = encoder.transform(Y)\n",
        "dummy_y = np_utils.to_categorical(encoded_Y)"
      ],
      "execution_count": 0,
      "outputs": []
    },
    {
      "cell_type": "markdown",
      "metadata": {
        "id": "JYF7HayZnYRj",
        "colab_type": "text"
      },
      "source": [
        "**define baseline model**"
      ]
    },
    {
      "cell_type": "code",
      "metadata": {
        "id": "vIz0trc0nYCE",
        "colab_type": "code",
        "colab": {}
      },
      "source": [
        "def baseline_model():\n",
        "\t# create model\n",
        "\tmodel = Sequential()\n",
        "\tmodel.add(Dense(12, input_dim=4, init='normal', activation='relu'))\n",
        "\tmodel.add(Dense(6, init='normal', activation='relu'))\n",
        "\tmodel.add(Dense(3, init='normal', activation='sigmoid'))\n",
        "\n",
        "\t# Compile model\n",
        "\tmodel.compile(loss='categorical_crossentropy', optimizer='adam', metrics=['accuracy'])\n",
        "\treturn model"
      ],
      "execution_count": 0,
      "outputs": []
    },
    {
      "cell_type": "markdown",
      "metadata": {
        "id": "CRmQyH_jnfWh",
        "colab_type": "text"
      },
      "source": [
        "**Kfold Validation**"
      ]
    },
    {
      "cell_type": "code",
      "metadata": {
        "id": "cYUwjiOdniMq",
        "colab_type": "code",
        "colab": {}
      },
      "source": [
        "estimator = KerasClassifier(build_fn=baseline_model, nb_epoch=100, batch_size=25)\n",
        "kfold = KFold(n_splits=10, shuffle=True, random_state=seed)\n",
        "results = cross_val_score(estimator, X, dummy_y, cv=kfold)\n",
        "print(\"Accuracy: %.2f%% (%.2f%%)\" % (results.mean()*100, results.std()*100))\n"
      ],
      "execution_count": 0,
      "outputs": []
    }
  ]
}