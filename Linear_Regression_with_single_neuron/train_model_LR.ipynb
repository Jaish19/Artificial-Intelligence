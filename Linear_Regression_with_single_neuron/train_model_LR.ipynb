{
  "nbformat": 4,
  "nbformat_minor": 0,
  "metadata": {
    "colab": {
      "name": "Untitled6.ipynb",
      "provenance": []
    },
    "kernelspec": {
      "name": "python3",
      "display_name": "Python 3"
    }
  },
  "cells": [
    {
      "cell_type": "code",
      "metadata": {
        "id": "25fZh19_Csar",
        "colab_type": "code",
        "colab": {}
      },
      "source": [
        "!git clone https://github.com/Jaish19/Artificial-Intelligence.git"
      ],
      "execution_count": 0,
      "outputs": []
    },
    {
      "cell_type": "code",
      "metadata": {
        "id": "XgBR5tyJCvr8",
        "colab_type": "code",
        "colab": {}
      },
      "source": [
        "import pandas as pd\n",
        "from sklearn.model_selection import train_test_split\n",
        "from sklearn.linear_model import LinearRegression\n",
        "from sklearn.metrics import mean_absolute_error\n",
        "from sklearn.externals import joblib\n",
        "\n",
        "# Load our data set\n",
        "df = pd.read_csv(\"/content/Artificial-Intelligence/Linear_Regression_with_single_neuron/house_data.csv\")\n",
        "\n",
        "# Create the X and y arrays\n",
        "X = df[[\"sq_feet\", \"num_bedrooms\", \"num_bathrooms\"]]\n",
        "y = df[\"sale_price\"]\n",
        "\n",
        "# Split the data set in a training set (75%) and a test set (25%)\n",
        "X_train, X_test, y_train, y_test = train_test_split(X, y, test_size=0.25)\n",
        "\n",
        "# Create the Linear Regression model\n",
        "model = LinearRegression()\n",
        "\n",
        "# Train the model\n",
        "model.fit(X_train, y_train)\n",
        "\n",
        "# Save the trained model to a file so we can use it to make predictions later\n",
        "joblib.dump(model, '/content/Artificial-Intelligence/Linear_Regression_with_single_neuron/house_value_model.pkl')\n",
        "\n",
        "# Report how well the model is performing\n",
        "print(\"Model training results:\")\n",
        "\n",
        "# Report an error rate on the training set\n",
        "mse_train = mean_absolute_error(y_train, model.predict(X_train))\n",
        "print(f\" - Training Set Error: {mse_train}\")\n",
        "\n",
        "# Report an error rate on the test set\n",
        "mse_test = mean_absolute_error(y_test, model.predict(X_test))\n",
        "print(f\" - Test Set Error: {mse_test}\")"
      ],
      "execution_count": 0,
      "outputs": []
    }
  ]
}