{
  "nbformat": 4,
  "nbformat_minor": 0,
  "metadata": {
    "colab": {
      "name": "Untitled6.ipynb",
      "provenance": []
    },
    "kernelspec": {
      "name": "python3",
      "display_name": "Python 3"
    }
  },
  "cells": [
    {
      "cell_type": "code",
      "metadata": {
        "id": "25fZh19_Csar",
        "colab_type": "code",
        "colab": {}
      },
      "source": [
        "!git clone https://github.com/Jaish19/Artificial-Intelligence.git"
      ],
      "execution_count": 0,
      "outputs": []
    },
    {
      "cell_type": "code",
      "metadata": {
        "id": "XgBR5tyJCvr8",
        "colab_type": "code",
        "colab": {
          "base_uri": "https://localhost:8080/",
          "height": 108
        },
        "outputId": "2ce2a5cf-6e2a-401d-bbb3-37f686de03ef"
      },
      "source": [
        "from sklearn.externals import joblib\n",
        "\n",
        "# Load our trained model\n",
        "model = joblib.load('/content/Artificial-Intelligence/Linear_Regression_with_single_neuron/house_value_model.pkl')\n",
        "\n",
        "# Define the house that we want to value (with the values in the same order as in the training data)\n",
        "house_1 = [\n",
        "    3000,  # Size in Square Feet\n",
        "    3,  # Number of Bedrooms\n",
        "    2,  # Number of Bathrooms\n",
        "]\n",
        "\n",
        "# scikit-learn assumes you want to predict the values for multiple of houses at once, so it expects an array.\n",
        "# We only want to estimate the value of a single house, so there will only be one item in our array.\n",
        "homes = [\n",
        "    house_1\n",
        "]\n",
        "\n",
        "# Make a prediction for each house in the homes array (we only have one)\n",
        "home_values = model.predict(homes)\n",
        "\n",
        "# Since we are only predicting the price of one house, grab the first prediction returned\n",
        "predicted_value = home_values[0]\n",
        "\n",
        "# Print the results\n",
        "print(\"House details:\")\n",
        "print(f\"- {house_1[0]} sq feet\")\n",
        "print(f\"- {house_1[1]} bedrooms\")\n",
        "print(f\"- {house_1[2]} bathrooms\")\n",
        "print(f\"Estimated value: ${predicted_value:,.2f}\")"
      ],
      "execution_count": 5,
      "outputs": [
        {
          "output_type": "stream",
          "text": [
            "House details:\n",
            "- 3000 sq feet\n",
            "- 3 bedrooms\n",
            "- 2 bathrooms\n",
            "Estimated value: $540,590.87\n"
          ],
          "name": "stdout"
        }
      ]
    }
  ]
}