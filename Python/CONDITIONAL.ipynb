{
  "nbformat": 4,
  "nbformat_minor": 0,
  "metadata": {
    "colab": {
      "name": "Untitled7.ipynb",
      "provenance": []
    },
    "kernelspec": {
      "name": "python3",
      "display_name": "Python 3"
    }
  },
  "cells": [
    {
      "cell_type": "markdown",
      "metadata": {
        "id": "4VeJo2ttfQHC",
        "colab_type": "text"
      },
      "source": [
        "#     CONDITIONAL STATEMENT & CONTROL STRUCTURES\n"
      ]
    },
    {
      "cell_type": "markdown",
      "metadata": {
        "id": "vnPjUbwCLbcU",
        "colab_type": "text"
      },
      "source": [
        "# IF ELSE STATEMENTS"
      ]
    },
    {
      "cell_type": "code",
      "metadata": {
        "id": "7jBdqGzxeB63",
        "colab_type": "code",
        "colab": {},
        "cellView": "code"
      },
      "source": [
        "# if - else statements\n",
        "\n",
        "# Eg. 1\n",
        "\n",
        "val = 5\n",
        "\n",
        "if val:\n",
        "     print(\"Expected Value\")\n",
        "else:\n",
        "     print(\"Unexpected Value\")"
      ],
      "execution_count": 0,
      "outputs": []
    },
    {
      "cell_type": "code",
      "metadata": {
        "id": "VOJC_hjkOLwQ",
        "colab_type": "code",
        "colab": {}
      },
      "source": [
        "# Eg. 2\n",
        "\n",
        "val=15\n",
        "\n",
        "if val > 20:\n",
        "     print(\"Value One\")\n",
        "elif val >10:\n",
        "     print(\"Value two\")\n",
        "elif val==8:\n",
        "     print(\"Value three\")\n",
        "else:\n",
        "     print (\"None\")"
      ],
      "execution_count": 0,
      "outputs": []
    },
    {
      "cell_type": "code",
      "metadata": {
        "id": "UFsCrywdOxBv",
        "colab_type": "code",
        "colab": {}
      },
      "source": [
        "l1=[1,2,3]\n",
        "a,b=100,30\n",
        "\n",
        "if a and b not in l1:\n",
        "     l1.extend([a,b])\n",
        "else:\n",
        "     print (\"It's Exist\")"
      ],
      "execution_count": 0,
      "outputs": []
    },
    {
      "cell_type": "markdown",
      "metadata": {
        "id": "JtM2SvojKHEC",
        "colab_type": "text"
      },
      "source": [
        "# WHILE LOOP\n"
      ]
    },
    {
      "cell_type": "code",
      "metadata": {
        "id": "J23PtdoVg4IZ",
        "colab_type": "code",
        "colab": {}
      },
      "source": [
        "# Eg. 1 : Infinite loop execution\n",
        "\n",
        "while True:\n",
        "     print \"Hello Guys\""
      ],
      "execution_count": 0,
      "outputs": []
    },
    {
      "cell_type": "code",
      "metadata": {
        "id": "SNZahFr0PCRa",
        "colab_type": "code",
        "colab": {}
      },
      "source": [
        "# Eg. 2 : Else statement with loop\n",
        "\n",
        "count = 0\n",
        "while count < 5:\n",
        "   print (\"{} is  less than 5\".format(count))\n",
        "   count = count + 1\n",
        "else:\n",
        "   print(\"{} is not less than 5\".format(count))"
      ],
      "execution_count": 0,
      "outputs": []
    },
    {
      "cell_type": "code",
      "metadata": {
        "id": "JVzr-lrBPgqb",
        "colab_type": "code",
        "colab": {}
      },
      "source": [
        "# Eg. 3 : Single line statement\n",
        "\n",
        "flag = 1\n",
        "while (flag): print 'Given flag is really true!'"
      ],
      "execution_count": 0,
      "outputs": []
    },
    {
      "cell_type": "markdown",
      "metadata": {
        "id": "cfXrIoiPKTVI",
        "colab_type": "text"
      },
      "source": [
        "# RANGE FUNCTION"
      ]
    },
    {
      "cell_type": "code",
      "metadata": {
        "id": "w34e24FrjJrk",
        "colab_type": "code",
        "colab": {}
      },
      "source": [
        "type(range(10))\n",
        "l1=list(range(0,20))\n",
        "\n",
        "print(range(5))\n",
        "range(-5,0)\n",
        "\n",
        "range(0,10)\n",
        "range(5,15)\n",
        "\n",
        "range(0,20,2)\n",
        "range(0,5,-1)  # check it\n",
        "range(5,0,-1)\n",
        "range(10,0,-2)"
      ],
      "execution_count": 0,
      "outputs": []
    },
    {
      "cell_type": "markdown",
      "metadata": {
        "id": "KG2jp70LoUbe",
        "colab_type": "text"
      },
      "source": [
        "# FOR LOOP ITERATION\n"
      ]
    },
    {
      "cell_type": "code",
      "metadata": {
        "id": "Pyd6IvmpjOk7",
        "colab_type": "code",
        "colab": {}
      },
      "source": [
        "a = 'Python'\n",
        "l1=[]\n",
        "for i in a:\n",
        "     if i in ['a','e','i','o','u']:\n",
        "          l1.append(i)\n",
        "     else:\n",
        "          print \"No vowels\""
      ],
      "execution_count": 0,
      "outputs": []
    },
    {
      "cell_type": "code",
      "metadata": {
        "id": "AR2tD81UQtDa",
        "colab_type": "code",
        "colab": {}
      },
      "source": [
        "# Eg. 4 FOR LOOP WITH BREAK STATEMENT AND ELSE STATEMENT \n",
        "\n",
        "for i in b:\n",
        "     if i not in b:\n",
        "\t     print (\"Not exist\")\n",
        "\t     break\n",
        "else:\n",
        "\tprint (\"Came out from loop\")"
      ],
      "execution_count": 0,
      "outputs": []
    }
  ]
}