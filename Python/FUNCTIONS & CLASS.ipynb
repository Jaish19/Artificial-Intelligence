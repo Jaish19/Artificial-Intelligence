{
  "nbformat": 4,
  "nbformat_minor": 0,
  "metadata": {
    "colab": {
      "name": "Untitled7.ipynb",
      "provenance": []
    },
    "kernelspec": {
      "name": "python3",
      "display_name": "Python 3"
    }
  },
  "cells": [
    {
      "cell_type": "markdown",
      "metadata": {
        "id": "4VeJo2ttfQHC",
        "colab_type": "text"
      },
      "source": [
        "#     FUNCTION & CLASSES\n"
      ]
    },
    {
      "cell_type": "markdown",
      "metadata": {
        "id": "vnPjUbwCLbcU",
        "colab_type": "text"
      },
      "source": [
        "# IF ELSE STATEMENTS"
      ]
    },
    {
      "cell_type": "markdown",
      "metadata": {
        "id": "t65BujntSfzf",
        "colab_type": "text"
      },
      "source": [
        "FUNCTION: A function is a block of organized, reusable code that is used\n",
        "to perform a single, related action. Functions provide better modularity for\n",
        "your application and a high degree of code reusing.\n",
        "\n",
        "TYPE OF FUNCTION:\n",
        "1. BUILT-IN FUNCTION\n",
        "2. USER DEFINED FUNCTION\n",
        "\n",
        "FUNCTION ARGUMENTS:\n",
        "1.Required arguments\n",
        "2.Keyword arguments\n",
        "3.Default arguments\n",
        "4.Arbitary arguments (args & kwargs)"
      ]
    },
    {
      "cell_type": "code",
      "metadata": {
        "id": "7jBdqGzxeB63",
        "colab_type": "code",
        "colab": {},
        "cellView": "code"
      },
      "source": [
        "# defining the functions by passing an arguments:(REQUIRED ARGUMENTS or USER-DEFINED ARGUMENTS)\n",
        "\n",
        "def func(a,b):\n",
        "\tc=a+b\n",
        "\tprint(c)\n",
        "\n",
        "func(5,8)"
      ],
      "execution_count": 0,
      "outputs": []
    },
    {
      "cell_type": "code",
      "metadata": {
        "id": "VOJC_hjkOLwQ",
        "colab_type": "code",
        "colab": {}
      },
      "source": [
        "# defining the functions with default arguments\n",
        "\n",
        "def func(a,b=5):\n",
        "\tc=a+b\n",
        "\tprint c\n",
        "\n",
        "func(5)\n",
        "func(50,100)"
      ],
      "execution_count": 0,
      "outputs": []
    },
    {
      "cell_type": "code",
      "metadata": {
        "id": "UFsCrywdOxBv",
        "colab_type": "code",
        "colab": {}
      },
      "source": [
        "# defining the functions with Keyword arguments\n",
        "\n",
        "def func(name,info):\n",
        "\tprint name\n",
        "\tprint info\n",
        "\n",
        "func(name = \"Python\", info=\"keywords\") # keyword argument\n",
        "func(info = \"Keyword\", name=\"Python\") # keyword with out of order\n",
        "func(\"python\",info=\"keyword\") # 1 positional keyword argument"
      ],
      "execution_count": 0,
      "outputs": []
    },
    {
      "cell_type": "markdown",
      "metadata": {
        "id": "JtM2SvojKHEC",
        "colab_type": "text"
      },
      "source": [
        "# objects: states and behaviour of the classs.\n",
        "# class:  states and behaviour of an object\n",
        "\n",
        "# constructor: will help to create an object very effectively\n"
      ]
    },
    {
      "cell_type": "code",
      "metadata": {
        "id": "J23PtdoVg4IZ",
        "colab_type": "code",
        "colab": {}
      },
      "source": [
        "class alphabets(object):\n",
        "\tdef __init__(self,a,b):\n",
        "\t\tself.a=a\n",
        "\t\tself.b=b\n",
        "\t\tpass\n",
        "\tdef A(self):\n",
        "\t\tprint self.a + self.b\n",
        "\n",
        "\tdef B(self):\n",
        "\t\tprint self.a*self.b\n",
        "\n",
        "bb=alphabets(5,9)\n",
        "bb.A()\n",
        "bb.B()"
      ],
      "execution_count": 0,
      "outputs": []
    }
  ]
}