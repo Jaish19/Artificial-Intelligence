{
  "nbformat": 4,
  "nbformat_minor": 0,
  "metadata": {
    "colab": {
      "name": "Untitled15.ipynb",
      "provenance": []
    },
    "kernelspec": {
      "name": "python3",
      "display_name": "Python 3"
    }
  },
  "cells": [
    {
      "cell_type": "markdown",
      "metadata": {
        "id": "Ycr86dWCudj3",
        "colab_type": "text"
      },
      "source": [
        "# **Numpy Basics**"
      ]
    },
    {
      "cell_type": "code",
      "metadata": {
        "id": "nW_FZxrcukoh",
        "colab_type": "code",
        "colab": {}
      },
      "source": [
        "import numpy as np"
      ],
      "execution_count": 0,
      "outputs": []
    },
    {
      "cell_type": "code",
      "metadata": {
        "id": "OCYiMs0Du1eD",
        "colab_type": "code",
        "colab": {}
      },
      "source": [
        "a = np.array([1,2,3])"
      ],
      "execution_count": 0,
      "outputs": []
    },
    {
      "cell_type": "code",
      "metadata": {
        "id": "qekDoy0su4Ap",
        "colab_type": "code",
        "colab": {}
      },
      "source": [
        "print(a)\n",
        "print(a.shape)\n",
        "print(type(a))"
      ],
      "execution_count": 0,
      "outputs": []
    },
    {
      "cell_type": "code",
      "metadata": {
        "id": "U-shNsFfvAED",
        "colab_type": "code",
        "colab": {}
      },
      "source": [
        "b = np.array([1.1,2.2,3.3])"
      ],
      "execution_count": 0,
      "outputs": []
    },
    {
      "cell_type": "code",
      "metadata": {
        "id": "jItiKg5mvCa0",
        "colab_type": "code",
        "colab": {
          "base_uri": "https://localhost:8080/",
          "height": 68
        },
        "outputId": "4df029b2-8f04-4f73-814f-9ead5fe2f21d"
      },
      "source": [
        "print(b)       \n",
        "print(b.shape) \n",
        "print(type(b))"
      ],
      "execution_count": 7,
      "outputs": [
        {
          "output_type": "stream",
          "text": [
            "[1.1 2.2 3.3]\n",
            "(3,)\n",
            "<class 'numpy.ndarray'>\n"
          ],
          "name": "stdout"
        }
      ]
    },
    {
      "cell_type": "code",
      "metadata": {
        "id": "1qLT4irJvFVu",
        "colab_type": "code",
        "colab": {
          "base_uri": "https://localhost:8080/",
          "height": 85
        },
        "outputId": "0085897b-bae9-4166-fe3a-e54f48515217"
      },
      "source": [
        "print(a[0])       \n",
        "print(b[2])       \n",
        "print(type(a[2])) \n",
        "print(type(b[1]))"
      ],
      "execution_count": 8,
      "outputs": [
        {
          "output_type": "stream",
          "text": [
            "1\n",
            "3.3\n",
            "<class 'numpy.int64'>\n",
            "<class 'numpy.float64'>\n"
          ],
          "name": "stdout"
        }
      ]
    },
    {
      "cell_type": "code",
      "metadata": {
        "id": "lhzNSwJXvKF2",
        "colab_type": "code",
        "colab": {}
      },
      "source": [
        "c = np.array([[1,2],[3,4]])"
      ],
      "execution_count": 0,
      "outputs": []
    },
    {
      "cell_type": "code",
      "metadata": {
        "id": "4jiCEtu7vNqD",
        "colab_type": "code",
        "colab": {
          "base_uri": "https://localhost:8080/",
          "height": 68
        },
        "outputId": "03b791bb-badd-4ff6-a501-695378587e90"
      },
      "source": [
        "print(c)\n",
        "print(c.shape)"
      ],
      "execution_count": 10,
      "outputs": [
        {
          "output_type": "stream",
          "text": [
            "[[1 2]\n",
            " [3 4]]\n",
            "(2, 2)\n"
          ],
          "name": "stdout"
        }
      ]
    },
    {
      "cell_type": "markdown",
      "metadata": {
        "id": "dwKEHCSavSlZ",
        "colab_type": "text"
      },
      "source": [
        "# **Ones and Zeros**"
      ]
    },
    {
      "cell_type": "code",
      "metadata": {
        "id": "7jscasnAvYNS",
        "colab_type": "code",
        "colab": {}
      },
      "source": [
        "d = np.ones((2,2))"
      ],
      "execution_count": 0,
      "outputs": []
    },
    {
      "cell_type": "code",
      "metadata": {
        "id": "ltwgMyS4yQSX",
        "colab_type": "code",
        "colab": {}
      },
      "source": [
        "print(d)            \n",
        "print(d.shape)       \n",
        "print(type(d))       \n",
        "print(type(d[0][0]))"
      ],
      "execution_count": 0,
      "outputs": []
    },
    {
      "cell_type": "code",
      "metadata": {
        "id": "nHWHo9GtyUur",
        "colab_type": "code",
        "colab": {}
      },
      "source": [
        "e = np.zeros((3,3))"
      ],
      "execution_count": 0,
      "outputs": []
    },
    {
      "cell_type": "code",
      "metadata": {
        "id": "GeTGXptjyWgE",
        "colab_type": "code",
        "colab": {
          "base_uri": "https://localhost:8080/",
          "height": 119
        },
        "outputId": "47863e5e-25ac-4464-b4c7-2c80f4ba4aa6"
      },
      "source": [
        "print(e)             \n",
        "print(e.shape)       \n",
        "print(type(e))       \n",
        "print(type(e[0][0]))"
      ],
      "execution_count": 15,
      "outputs": [
        {
          "output_type": "stream",
          "text": [
            "[[0. 0. 0.]\n",
            " [0. 0. 0.]\n",
            " [0. 0. 0.]]\n",
            "(3, 3)\n",
            "<class 'numpy.ndarray'>\n",
            "<class 'numpy.float64'>\n"
          ],
          "name": "stdout"
        }
      ]
    },
    {
      "cell_type": "code",
      "metadata": {
        "id": "e0uZhS6CycWP",
        "colab_type": "code",
        "colab": {}
      },
      "source": [
        "f = np.random.random((2,2))"
      ],
      "execution_count": 0,
      "outputs": []
    },
    {
      "cell_type": "code",
      "metadata": {
        "id": "4QJG_MdYyeNV",
        "colab_type": "code",
        "colab": {}
      },
      "source": [
        "print(f)        \n",
        "print(f.shape)"
      ],
      "execution_count": 0,
      "outputs": []
    },
    {
      "cell_type": "markdown",
      "metadata": {
        "id": "Te8FeRT6yld3",
        "colab_type": "text"
      },
      "source": [
        "# **Array Math**"
      ]
    },
    {
      "cell_type": "code",
      "metadata": {
        "id": "-nHRSbz9yo8N",
        "colab_type": "code",
        "colab": {
          "base_uri": "https://localhost:8080/",
          "height": 102
        },
        "outputId": "b53ec6ef-167b-4836-b8e1-76cb3f701a4b"
      },
      "source": [
        "add = a + b\n",
        "print (\"addition\")\n",
        "print(a)\n",
        "print(b)\n",
        "print(add)\n",
        "print(np.add(a,b))"
      ],
      "execution_count": 19,
      "outputs": [
        {
          "output_type": "stream",
          "text": [
            "addition\n",
            "[1 2 3]\n",
            "[1.1 2.2 3.3]\n",
            "[2.1 4.2 6.3]\n",
            "[2.1 4.2 6.3]\n"
          ],
          "name": "stdout"
        }
      ]
    },
    {
      "cell_type": "code",
      "metadata": {
        "id": "dsWZXvDTys_1",
        "colab_type": "code",
        "colab": {
          "base_uri": "https://localhost:8080/",
          "height": 68
        },
        "outputId": "da23d479-b65a-49b8-f018-3b1fbf034a2f"
      },
      "source": [
        "sub = a - b\n",
        "print (\"subtraction\")\n",
        "print(sub)               \n",
        "print(np.subtract(a,b)) "
      ],
      "execution_count": 20,
      "outputs": [
        {
          "output_type": "stream",
          "text": [
            "subtraction\n",
            "[-0.1 -0.2 -0.3]\n",
            "[-0.1 -0.2 -0.3]\n"
          ],
          "name": "stdout"
        }
      ]
    },
    {
      "cell_type": "code",
      "metadata": {
        "id": "pFUEV7a2yw0T",
        "colab_type": "code",
        "colab": {
          "base_uri": "https://localhost:8080/",
          "height": 68
        },
        "outputId": "040b5baf-d605-4a69-8fbb-d0ef11e977f1"
      },
      "source": [
        "mul = a * b\n",
        "print (\"multiplication\")\n",
        "print(mul)                \n",
        "print(np.multiply(a,b)) "
      ],
      "execution_count": 21,
      "outputs": [
        {
          "output_type": "stream",
          "text": [
            "multiplication\n",
            "[1.1 4.4 9.9]\n",
            "[1.1 4.4 9.9]\n"
          ],
          "name": "stdout"
        }
      ]
    },
    {
      "cell_type": "code",
      "metadata": {
        "id": "vE5j2sjEyy8B",
        "colab_type": "code",
        "colab": {
          "base_uri": "https://localhost:8080/",
          "height": 68
        },
        "outputId": "8314ed85-610a-4317-c2a9-6f21adc2ee7e"
      },
      "source": [
        "div = a / b\n",
        "print (\"division\")\n",
        "print(div) \n",
        "print(np.divide(a,b))   "
      ],
      "execution_count": 22,
      "outputs": [
        {
          "output_type": "stream",
          "text": [
            "division\n",
            "[0.90909091 0.90909091 0.90909091]\n",
            "[0.90909091 0.90909091 0.90909091]\n"
          ],
          "name": "stdout"
        }
      ]
    },
    {
      "cell_type": "markdown",
      "metadata": {
        "id": "BzlvLyBky3-1",
        "colab_type": "text"
      },
      "source": [
        "# **Array Concat**"
      ]
    },
    {
      "cell_type": "code",
      "metadata": {
        "id": "po9cIEk-y527",
        "colab_type": "code",
        "colab": {}
      },
      "source": [
        "v1 = np.array([1,2,3])\n",
        "v2 = np.array([4,5,6])"
      ],
      "execution_count": 0,
      "outputs": []
    },
    {
      "cell_type": "code",
      "metadata": {
        "id": "u8yRMm7Ly8bn",
        "colab_type": "code",
        "colab": {}
      },
      "source": [
        "print(v1.shape)\n",
        "print(v2.shape)  "
      ],
      "execution_count": 0,
      "outputs": []
    },
    {
      "cell_type": "code",
      "metadata": {
        "id": "ckvbeFYNzAJH",
        "colab_type": "code",
        "colab": {}
      },
      "source": [
        "concat = np.concatenate((v1, v2))  "
      ],
      "execution_count": 0,
      "outputs": []
    },
    {
      "cell_type": "code",
      "metadata": {
        "id": "cD3rJnHXzCBu",
        "colab_type": "code",
        "colab": {}
      },
      "source": [
        "print(concat)      \n",
        "print(concat.shape) "
      ],
      "execution_count": 0,
      "outputs": []
    },
    {
      "cell_type": "code",
      "metadata": {
        "id": "FTNd-JOlzExO",
        "colab_type": "code",
        "colab": {}
      },
      "source": [
        "v3 = np.array([[1,2,3],[4,5,6]])\n",
        "v4 = np.array([[40,40,40],[50,50,50]])"
      ],
      "execution_count": 0,
      "outputs": []
    },
    {
      "cell_type": "code",
      "metadata": {
        "id": "bzPgJ1x4zGDK",
        "colab_type": "code",
        "colab": {}
      },
      "source": [
        "print(v3.shape)     \n",
        "print(v4.shape) "
      ],
      "execution_count": 0,
      "outputs": []
    },
    {
      "cell_type": "code",
      "metadata": {
        "id": "lJUE3_cHzKXT",
        "colab_type": "code",
        "colab": {}
      },
      "source": [
        "concat_0 = np.concatenate((v3, v4), axis=0)\n",
        "concat_1 = np.concatenate((v3, v4), axis=1)\n",
        "print(concat_0)\n",
        "print(concat_1)\n"
      ],
      "execution_count": 0,
      "outputs": []
    },
    {
      "cell_type": "code",
      "metadata": {
        "id": "Z7aIUMY9zP-f",
        "colab_type": "code",
        "colab": {}
      },
      "source": [
        "v_stack  = np.vstack((v3,v4))\n",
        "h_stack  = np.hstack((v3,v4))\n",
        "print(v_stack)\n",
        "print(h_stack)"
      ],
      "execution_count": 0,
      "outputs": []
    },
    {
      "cell_type": "code",
      "metadata": {
        "id": "04GbKXVZy3qa",
        "colab_type": "code",
        "colab": {}
      },
      "source": [
        "print(concat_0) \n",
        "print(v_stack) \n",
        "print(concat_0.shape)"
      ],
      "execution_count": 0,
      "outputs": []
    },
    {
      "cell_type": "code",
      "metadata": {
        "id": "9R4_oJIRuZVr",
        "colab_type": "code",
        "colab": {}
      },
      "source": [
        "print(concat_1)        \n",
        "print(h_stack)         \n",
        "print(concat_1.shape)"
      ],
      "execution_count": 0,
      "outputs": []
    },
    {
      "cell_type": "markdown",
      "metadata": {
        "id": "qkkbqQkgzhEP",
        "colab_type": "text"
      },
      "source": [
        "# **Array Reshape**"
      ]
    },
    {
      "cell_type": "code",
      "metadata": {
        "id": "A6XutZEPzjP1",
        "colab_type": "code",
        "colab": {}
      },
      "source": [
        "a = np.array([[1,1,1],[2,2,2]])"
      ],
      "execution_count": 0,
      "outputs": []
    },
    {
      "cell_type": "code",
      "metadata": {
        "id": "76ns8Xr-zliJ",
        "colab_type": "code",
        "colab": {}
      },
      "source": [
        "print(a)\n",
        "print(a.shape)"
      ],
      "execution_count": 0,
      "outputs": []
    },
    {
      "cell_type": "code",
      "metadata": {
        "id": "EMphg2aQzpl5",
        "colab_type": "code",
        "colab": {}
      },
      "source": [
        "b = np.reshape(a, 6)"
      ],
      "execution_count": 0,
      "outputs": []
    },
    {
      "cell_type": "code",
      "metadata": {
        "id": "IePg0Z8tzxkq",
        "colab_type": "code",
        "colab": {}
      },
      "source": [
        "print(b)\n",
        "print(b.shape)"
      ],
      "execution_count": 0,
      "outputs": []
    },
    {
      "cell_type": "code",
      "metadata": {
        "id": "uL7N0cBQz0ZM",
        "colab_type": "code",
        "colab": {}
      },
      "source": [
        "c = np.reshape(b, (2,2))"
      ],
      "execution_count": 0,
      "outputs": []
    },
    {
      "cell_type": "code",
      "metadata": {
        "id": "PLJKJYSRz16Z",
        "colab_type": "code",
        "colab": {}
      },
      "source": [
        "print(c)              \n",
        "print(c.shape) "
      ],
      "execution_count": 0,
      "outputs": []
    },
    {
      "cell_type": "code",
      "metadata": {
        "id": "LwsE4h_iz-mR",
        "colab_type": "code",
        "colab": {}
      },
      "source": [
        "c = np.array([[1,2,3],[4,5,6],[7,8,9]])"
      ],
      "execution_count": 0,
      "outputs": []
    },
    {
      "cell_type": "code",
      "metadata": {
        "id": "ZlW2YGtV0Akf",
        "colab_type": "code",
        "colab": {}
      },
      "source": [
        "print(c)        \n",
        "print(c.shape) "
      ],
      "execution_count": 0,
      "outputs": []
    },
    {
      "cell_type": "code",
      "metadata": {
        "id": "qyTN3oyZ0Deu",
        "colab_type": "code",
        "colab": {}
      },
      "source": [
        "d = np.ravel(c) # returns contiguous flattened array (1D)\n",
        "e = c.flatten()"
      ],
      "execution_count": 0,
      "outputs": []
    },
    {
      "cell_type": "code",
      "metadata": {
        "id": "dmF5DmoY0Gas",
        "colab_type": "code",
        "colab": {}
      },
      "source": [
        "print(d) \n",
        "print(e)    "
      ],
      "execution_count": 0,
      "outputs": []
    },
    {
      "cell_type": "code",
      "metadata": {
        "id": "iv50Opb20OA9",
        "colab_type": "code",
        "colab": {}
      },
      "source": [
        "print(np.ravel(c, order='F'))  # Column Major\n",
        "print(np.ravel(c, order='C'))  # Row Major"
      ],
      "execution_count": 0,
      "outputs": []
    },
    {
      "cell_type": "markdown",
      "metadata": {
        "id": "v2xE0Nfe0bkE",
        "colab_type": "text"
      },
      "source": [
        "# **Expand Dimensions**"
      ]
    },
    {
      "cell_type": "code",
      "metadata": {
        "id": "RvX6gO8J0dwE",
        "colab_type": "code",
        "colab": {}
      },
      "source": [
        "a = np.array([500,200,100])"
      ],
      "execution_count": 0,
      "outputs": []
    },
    {
      "cell_type": "code",
      "metadata": {
        "id": "jpT977oT0h1h",
        "colab_type": "code",
        "colab": {}
      },
      "source": [
        "# insert a new axis along the row\n",
        "b = np.expand_dims(a, axis=0)  \n",
        "\n",
        "# insert a new axis along the column\n",
        "c = np.expand_dims(a, axis=1)\n",
        "\n",
        "print(b)            \n",
        "print(b.shape)     \n",
        "\n",
        "print(c)           \n",
        "print(c.shape) "
      ],
      "execution_count": 0,
      "outputs": []
    },
    {
      "cell_type": "markdown",
      "metadata": {
        "id": "koHPfefK0u2z",
        "colab_type": "text"
      },
      "source": [
        "# **Unique**"
      ]
    },
    {
      "cell_type": "code",
      "metadata": {
        "id": "4Yd-1FiU0phr",
        "colab_type": "code",
        "colab": {}
      },
      "source": [
        "m = np.array([1,2,1,1,4])\n",
        "\n",
        "# get the unique elements and thier indexes\n",
        "n, indices = np.unique(m, return_index=True)\n",
        "\n",
        "print(n)        \n",
        "print(indices)"
      ],
      "execution_count": 0,
      "outputs": []
    }
  ]
}