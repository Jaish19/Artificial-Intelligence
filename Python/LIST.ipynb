{
  "nbformat": 4,
  "nbformat_minor": 0,
  "metadata": {
    "colab": {
      "name": "Untitled7.ipynb",
      "provenance": []
    },
    "kernelspec": {
      "name": "python3",
      "display_name": "Python 3"
    }
  },
  "cells": [
    {
      "cell_type": "markdown",
      "metadata": {
        "id": "4VeJo2ttfQHC",
        "colab_type": "text"
      },
      "source": [
        "''' List : is a collection of mutable python objects\n",
        "----------------------------\n",
        "In-built functions:\n",
        "------------------------------\n",
        "Length\n",
        "Concatenation\n",
        "Repetion``\n",
        "Membership\n",
        "Iteration\n",
        "\n",
        "-------------------------------\n",
        "Other Built-In functions:\n",
        "-------------------------------\n",
        "append\n",
        "extend\n",
        "pop\n",
        "count\n",
        "min\n",
        "max\n",
        "sort\n",
        "replace\n",
        "split\n",
        "insert\n",
        "del\n",
        "join\n",
        "reverse\n",
        "cmp\n",
        "list(seq)\n",
        "enumerate\n",
        "find\n",
        "\n",
        "----------------------------------------'''"
      ]
    },
    {
      "cell_type": "code",
      "metadata": {
        "id": "7jBdqGzxeB63",
        "colab_type": "code",
        "colab": {},
        "cellView": "code"
      },
      "source": [
        "# REPRESENTATION AND BUILT-IN FUNCTIONS\n",
        "l1=list()\n",
        "\n",
        "l1=[]\n",
        "\n",
        "l1=[1,2,3,4,5,6,'python']\n",
        "\n",
        "print(type(l1))\n",
        "\n",
        "l1=[1,2,'a','b',2.555,'python',6]\n",
        "\n",
        "l1.index('python') \n",
        "\n",
        "l1.index(6)"
      ],
      "execution_count": 0,
      "outputs": []
    },
    {
      "cell_type": "code",
      "metadata": {
        "id": "J23PtdoVg4IZ",
        "colab_type": "code",
        "colab": {}
      },
      "source": [
        "# LENGTH\n",
        "\n",
        "l1=[99,74,'python']\n",
        "\n",
        "l2 = [5,4,]\n",
        "\n",
        "a=5\n",
        "\n",
        "l1 + a  # will throw error concatenation possible between two lists\n",
        "\n",
        "\n",
        "l1 +l2  # will work"
      ],
      "execution_count": 0,
      "outputs": []
    },
    {
      "cell_type": "code",
      "metadata": {
        "id": "w34e24FrjJrk",
        "colab_type": "code",
        "colab": {}
      },
      "source": [
        "# 3. Repetion\n",
        "\n",
        "l3=[1,2]\n",
        "\n",
        "l3*2\n",
        "\n",
        "a= 'python'\n",
        "\n",
        "a*2"
      ],
      "execution_count": 0,
      "outputs": []
    },
    {
      "cell_type": "code",
      "metadata": {
        "id": "LMxzQBe7jLD6",
        "colab_type": "code",
        "colab": {}
      },
      "source": [
        "#4. Member ship\n",
        "\n",
        "l1=[1,2,5,8,7,4,9,'a','z']\n",
        "\n",
        "4 in l1\n",
        "\n",
        "'a' in l1"
      ],
      "execution_count": 0,
      "outputs": []
    },
    {
      "cell_type": "code",
      "metadata": {
        "id": "Pyd6IvmpjOk7",
        "colab_type": "code",
        "colab": {}
      },
      "source": [
        "# 5. Iteration\n",
        "\n",
        "l1=[1,2,3,4,5]\n",
        "\n",
        "for i in l1:\n",
        "     print(i)\n",
        "\n",
        "# 5.1 Eg.\n",
        "\n",
        "for i in l1:\n",
        "     print(l1.index(i), i)"
      ],
      "execution_count": 0,
      "outputs": []
    },
    {
      "cell_type": "code",
      "metadata": {
        "id": "VO3EvXCNjb6j",
        "colab_type": "code",
        "colab": {}
      },
      "source": [
        "# OTHER BUILT-IN FUNCTIONS\n",
        "\n",
        "l1=[1,2,3,4,5,'a','b']\n",
        "\n",
        "l2=[88,55,66]\n",
        "\n",
        "a = 125\n",
        "\n",
        "b = 'Course'\n",
        "\n",
        "l1.append(100)\n",
        "\n",
        "l1.append(l2)\n",
        "\n",
        "print(\"Updated List 1 : {}\"format(l1))\n",
        "\n",
        "l1.extend([55,74])\n",
        "l1.extend(l2)\n",
        "\n",
        "print(\"Updated List 2 : {}\"format(l1))"
      ],
      "execution_count": 0,
      "outputs": []
    },
    {
      "cell_type": "code",
      "metadata": {
        "id": "j49AB88rj-uF",
        "colab_type": "code",
        "colab": {}
      },
      "source": [
        "l1=[1,2,3,4,5,'a','b']\n",
        "\n",
        "l1.pop()  \n",
        "\n",
        "print(l1.count(4))\n",
        "\n",
        "a='apple'\n",
        "a.replace('p','#')\n",
        "\n",
        "print(\"a value:\",a)\n",
        "\n",
        "l1.reverse()\n",
        "\n",
        "l1.remove(4)\n",
        "\n",
        "print(\"updated list :\",l1)"
      ],
      "execution_count": 0,
      "outputs": []
    },
    {
      "cell_type": "markdown",
      "metadata": {
        "id": "prIqwjGplWYJ",
        "colab_type": "text"
      },
      "source": [
        "# SPLIT & LIST SEQUENCE & JOIN"
      ]
    },
    {
      "cell_type": "code",
      "metadata": {
        "id": "xKFixcq2lYzg",
        "colab_type": "code",
        "colab": {}
      },
      "source": [
        "a='python'\n",
        "\n",
        "print(list(a))\n",
        "\n",
        "print('-'.join(a))  # spliting the string by '-'\n",
        "\n",
        "b='High level language'\n",
        "\n",
        "c=b.split(' ')   # converting to list\n",
        "\n",
        "print(' '.join(c))     # converting back list to string"
      ],
      "execution_count": 0,
      "outputs": []
    },
    {
      "cell_type": "code",
      "metadata": {
        "id": "qT4dvLEqltq6",
        "colab_type": "code",
        "colab": {}
      },
      "source": [
        "sentence = \"Python is an interpreter lanuguage\"\n",
        "\n",
        "sentence.split(' ')  # will seperate as list\n",
        "\n",
        "sentence.split(' ',0) # will seperate as list with single python object\n",
        "sentence.split(' ',4) # will seperate as list with four python object\n",
        "\n",
        "sentence.split(' ',5)[1]  # seperating as 5 py objects and picking up 1st element\n",
        "sentence.split(' ',5)[3]  # seperating as 5 py objects and picking up 3rd element\n",
        "sentence.split(' ',5)[1:]  # seperating as 5 py objects and slicing up from 1st element"
      ],
      "execution_count": 0,
      "outputs": []
    },
    {
      "cell_type": "markdown",
      "metadata": {
        "id": "eJ--In4xl8qz",
        "colab_type": "text"
      },
      "source": [
        "NESTED LIST"
      ]
    },
    {
      "cell_type": "code",
      "metadata": {
        "id": "Z-ML2rdLmAiD",
        "colab_type": "code",
        "colab": {}
      },
      "source": [
        "l1=[1,2,3,4,5,7,8,'abc']\n",
        "\n",
        "l2 = [10,20,30]\n",
        "\n",
        "l1.append([100,90,80])\n",
        "\n",
        "l1.append(l2)\n",
        "\n",
        "print(\"Updated l1-1 list is: \",l1)\n",
        "\n",
        "# output : [1, 2, 3, 4, 5, 7, 8, 'abc', [100, 90, 80], [10, 20, 30]]\n",
        "\n",
        "for i in enumerate(l1):\n",
        "     print(i)\n",
        "\n",
        "l1[8].append(555)  # appending the value into nested list (i.e[100,90,80]) of l1\n",
        "l1[9].extend([5,85,'a'])\n",
        "\n",
        "print(\"Updated l1-2 list is: \",l1)\n"
      ],
      "execution_count": 0,
      "outputs": []
    },
    {
      "cell_type": "markdown",
      "metadata": {
        "id": "EltEfi5ymUcS",
        "colab_type": "text"
      },
      "source": [
        "**find and rfind**\n",
        "\n",
        "find : will start the index from to till the end and if it met the 'str' which we're\n",
        "issuing in the mid, it'll print that index value.\n",
        "rfind : it will start from reverse order and The rfind() method returns the highest index of the substring (if found).\n",
        "if not found, it returns -1."
      ]
    },
    {
      "cell_type": "code",
      "metadata": {
        "id": "x-7fKai6mnkU",
        "colab_type": "code",
        "colab": {}
      },
      "source": [
        "a= 'Python is an interpreter language and it is an elite language for best applications'\n",
        "\n",
        "a.find('is') # not mentioning any starting or ending index values, will begin from initial.\n",
        "\n",
        "a.find('is',0,30) # mentioning the starting and ending index values\n",
        "\n",
        "a.find('is',30,0) # will not work. reversing isn't possible\n",
        "\n",
        "a.rfind('is') # finding the highest index of substring (from reverse search will happen)"
      ],
      "execution_count": 0,
      "outputs": []
    },
    {
      "cell_type": "markdown",
      "metadata": {
        "id": "tA46jBsqms_G",
        "colab_type": "text"
      },
      "source": [
        "STRING SLICING"
      ]
    },
    {
      "cell_type": "code",
      "metadata": {
        "id": "m-Im_89umyyQ",
        "colab_type": "code",
        "colab": {}
      },
      "source": [
        "a='Mathematics'\n",
        "\n",
        "a[0]\n",
        "a[5]\n",
        "a[-1]\n",
        "a[-3]\n",
        "a[0:2]\n",
        "\n",
        "a[1:5]\n",
        "a[0:]\n",
        "a[:11]\n",
        "\n",
        "a[::-1]    # Reversing the string\n",
        "\n",
        "a[-1:-4]   # Reversing is not possible in slicing(will print empty list)\n",
        "\n",
        "a[-1:3]   # Reversing is not possible in slicing(will print empty list)\n",
        "\n",
        "a[3:-3]  # This will be possible because this action is happening towards the positive way\n",
        "\n",
        "a[-3:-2]  # This will be possible because this action is happening towards the positive way\n",
        "\n",
        "a[:-4]\n",
        "\n",
        "a[-1:]\n",
        "\n",
        "a[:]\n",
        "\n",
        "a[::]   # will print complete string\n",
        "\n",
        "a[:len(a)]\n",
        "\n",
        "a[len(a)-2:len(a)]\n",
        "\n",
        "# Interval\n",
        "\n",
        "l1=[1,2,4,5,8,9,8,5]\n",
        "\n",
        "l1[0:6:1]\n",
        "\n",
        "l1[0:5:2]\n",
        "\n",
        "l1[0:5:-1]\n",
        "\n",
        "l1[5:0:-1]"
      ],
      "execution_count": 0,
      "outputs": []
    }
  ]
}