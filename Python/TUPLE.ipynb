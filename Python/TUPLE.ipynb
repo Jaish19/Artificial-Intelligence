{
  "nbformat": 4,
  "nbformat_minor": 0,
  "metadata": {
    "colab": {
      "name": "Untitled7.ipynb",
      "provenance": []
    },
    "kernelspec": {
      "name": "python3",
      "display_name": "Python 3"
    }
  },
  "cells": [
    {
      "cell_type": "markdown",
      "metadata": {
        "id": "4VeJo2ttfQHC",
        "colab_type": "text"
      },
      "source": [
        "''' Tuple : is a collection of Immutable python objects\n",
        "----------------------------\n",
        "In-built functions:\n",
        "------------------------------\n",
        "Length\n",
        "Concatenation\n",
        "Repetion\n",
        "Membership\n",
        "Iteration\n",
        "\n",
        "-------------------------------\n",
        "Other Built-In functions:\n",
        "-------------------------------\n",
        "tup(seq)\n",
        "count\n",
        "index\n",
        "del"
      ]
    },
    {
      "cell_type": "code",
      "metadata": {
        "id": "7jBdqGzxeB63",
        "colab_type": "code",
        "colab": {},
        "cellView": "code"
      },
      "source": [
        "# REPRESENTATION AND BUILT-IN FUNCTIONS\n",
        "t1=tuple()\n",
        "\n",
        "t1=()\n",
        "\n",
        "t1=(1,2,3,4,5,6,'python')\n",
        "\n",
        "t2 = 5,2,8,'xyz'\n",
        "\n",
        "t3= 3, # way of another tuple repr.\n",
        "\n",
        "print(type(t1))"
      ],
      "execution_count": 0,
      "outputs": []
    },
    {
      "cell_type": "code",
      "metadata": {
        "id": "J23PtdoVg4IZ",
        "colab_type": "code",
        "colab": {}
      },
      "source": [
        "# CONCATENATION\n",
        "\n",
        "t2=(99,74,'python')\n",
        "\n",
        "a=5\n",
        "\n",
        "t1 + a  # will throw error concatenation possible between two lists\n",
        "\n",
        "\n",
        "t1 +t2  # will work"
      ],
      "execution_count": 0,
      "outputs": []
    },
    {
      "cell_type": "code",
      "metadata": {
        "id": "w34e24FrjJrk",
        "colab_type": "code",
        "colab": {}
      },
      "source": [
        "# DELETION\n",
        "\n",
        "del t1\n",
        "\n",
        "del t1[2]   # check it\n",
        "\n",
        "del t1[len(t1)-2]   # check it"
      ],
      "execution_count": 0,
      "outputs": []
    },
    {
      "cell_type": "markdown",
      "metadata": {
        "id": "KG2jp70LoUbe",
        "colab_type": "text"
      },
      "source": [
        "#     LIST AND TUPLE SEQUENCE"
      ]
    },
    {
      "cell_type": "code",
      "metadata": {
        "id": "Pyd6IvmpjOk7",
        "colab_type": "code",
        "colab": {}
      },
      "source": [
        "t2=(1,2,4,5,8,7)\n",
        "\n",
        "list(t2)   # convert tuple into list(tuple sequence)\n",
        "\n",
        "\n",
        "l1=[1,2,4,7,8,9,(4,8,'a')]\n",
        "\n",
        "tuple(l1)"
      ],
      "execution_count": 0,
      "outputs": []
    }
  ]
}