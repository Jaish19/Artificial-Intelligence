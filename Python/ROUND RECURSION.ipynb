{
  "nbformat": 4,
  "nbformat_minor": 0,
  "metadata": {
    "colab": {
      "name": "Untitled7.ipynb",
      "provenance": []
    },
    "kernelspec": {
      "name": "python3",
      "display_name": "Python 3"
    }
  },
  "cells": [
    {
      "cell_type": "markdown",
      "metadata": {
        "id": "4VeJo2ttfQHC",
        "colab_type": "text"
      },
      "source": [
        "#     STRING TYPES & OTHER OPERATIONS\n"
      ]
    },
    {
      "cell_type": "code",
      "metadata": {
        "id": "7jBdqGzxeB63",
        "colab_type": "code",
        "colab": {},
        "cellView": "code"
      },
      "source": [
        "a=5\n",
        "b=6\n",
        "c='python'\n",
        "\n",
        "a+b  # will give addition of two numbers\n",
        "\n",
        "a+c  # check it out - TypeError will occur\n",
        "\n",
        "print(a+int(c))    # Eg. 1 - ValueError will occur\n",
        "\n",
        "print(str(a) + c)  # Eg. 2 - converting int to str is possible"
      ],
      "execution_count": 0,
      "outputs": []
    },
    {
      "cell_type": "markdown",
      "metadata": {
        "id": "KO6T9ZTtUJQs",
        "colab_type": "text"
      },
      "source": [
        "# PRINT STATEMENTS"
      ]
    },
    {
      "cell_type": "code",
      "metadata": {
        "id": "VOJC_hjkOLwQ",
        "colab_type": "code",
        "colab": {}
      },
      "source": [
        "print 'Python'\n",
        "\n",
        "print 'python's dominating the programming world'\n",
        "\n",
        "print \"python's dominating the programming world\"\n",
        "\n",
        "print \"C:\\Users\\dell\\notepad\"   # will go to next line when it met \\notepad '\\n' --> next line place holder\n",
        "\n",
        "print r\"C:\\Users\\dell\\notepad\"  # will take as a directory now"
      ],
      "execution_count": 0,
      "outputs": []
    },
    {
      "cell_type": "markdown",
      "metadata": {
        "id": "MbzjPKG-USq-",
        "colab_type": "text"
      },
      "source": [
        "# FORMAT PRINTING"
      ]
    },
    {
      "cell_type": "code",
      "metadata": {
        "id": "UFsCrywdOxBv",
        "colab_type": "code",
        "colab": {
          "base_uri": "https://localhost:8080/",
          "height": 102
        },
        "outputId": "c8b3a2b5-cb14-48b8-8c4b-db73d0adc54c"
      },
      "source": [
        "a= 5\n",
        "b= 'Crash course'\n",
        "c= 'will give great support'\n",
        "\n",
        "print (\"Python\",b)\n",
        "\n",
        "print (\"python {}\".format(b))\n",
        "\n",
        "print (\"python {0},{1}\".format(a,b))\n",
        "\n",
        "print ('''Hi\n",
        "welcome 'students' ''')  # Using triple codes for documentation purposes"
      ],
      "execution_count": 29,
      "outputs": [
        {
          "output_type": "stream",
          "text": [
            "Python Crash course\n",
            "python Crash course\n",
            "python 5,Crash course\n",
            "Hi\n",
            "welcome 'students' \n"
          ],
          "name": "stdout"
        }
      ]
    },
    {
      "cell_type": "markdown",
      "metadata": {
        "id": "JtM2SvojKHEC",
        "colab_type": "text"
      },
      "source": [
        "# Round function:\n",
        "# round(number, number of digits)\n"
      ]
    },
    {
      "cell_type": "code",
      "metadata": {
        "id": "J23PtdoVg4IZ",
        "colab_type": "code",
        "colab": {}
      },
      "source": [
        "# for integers \n",
        "print(round(15)) \n",
        "  \n",
        "# for floating point \n",
        "print(round(51.6))  \n",
        "  \n",
        "  \n",
        "print(round(51.5))   \n",
        "  \n",
        "print(round(51.4))  "
      ],
      "execution_count": 0,
      "outputs": []
    },
    {
      "cell_type": "code",
      "metadata": {
        "id": "t0qlLSM1VpZ1",
        "colab_type": "code",
        "colab": {}
      },
      "source": [
        "# when the (ndigit+1)th digit is =5 \n",
        "print(round(2.665, 2)) \n",
        "  \n",
        "# when the (ndigit+1)th digit is >=5 \n",
        "print(round(2.676, 2))   \n",
        "  \n",
        "# when the (ndigit+1)th digit is <5  \n",
        "print(round(2.673, 2))  "
      ],
      "execution_count": 0,
      "outputs": []
    },
    {
      "cell_type": "markdown",
      "metadata": {
        "id": "UFJaIZGnWHIS",
        "colab_type": "text"
      },
      "source": [
        "# TYPE CASTING"
      ]
    },
    {
      "cell_type": "code",
      "metadata": {
        "id": "TcO1-xhTW-Ax",
        "colab_type": "code",
        "colab": {
          "base_uri": "https://localhost:8080/",
          "height": 85
        },
        "outputId": "76a6700b-6e8a-46b2-fea8-327ca535f504"
      },
      "source": [
        "x= '100'\n",
        "y = '90'\n",
        "z = 40.2\n",
        "\n",
        "print(int(z))\n",
        "\n",
        "print(int(x) + int(y))\n",
        "\n",
        "print(float(x) + float(y))\n",
        "\n",
        "val = str(z)\n",
        "print(type(val))"
      ],
      "execution_count": 43,
      "outputs": [
        {
          "output_type": "stream",
          "text": [
            "40\n",
            "190\n",
            "190.0\n",
            "<class 'str'>\n"
          ],
          "name": "stdout"
        }
      ]
    },
    {
      "cell_type": "code",
      "metadata": {
        "id": "4amkl8ezWK8z",
        "colab_type": "code",
        "colab": {}
      },
      "source": [
        "a = 5\n",
        "b = 'python'\n",
        "\n",
        "print(str(5))\n",
        "\n",
        "print(int(b))  # will not work\n",
        "\n",
        "list1 = [1,2,3,4,5]\n",
        "tup1 =  ('a','b')\n",
        "\n",
        "print(\"list - tuple :\",tuple(list1))\n",
        "\n",
        "print(\"tuple - list :\",list(tup1))"
      ],
      "execution_count": 0,
      "outputs": []
    },
    {
      "cell_type": "markdown",
      "metadata": {
        "id": "t0XhsTFGYANH",
        "colab_type": "text"
      },
      "source": [
        "# RANDOM MODULE"
      ]
    },
    {
      "cell_type": "code",
      "metadata": {
        "id": "HHGyslrlYCus",
        "colab_type": "code",
        "colab": {}
      },
      "source": [
        "import random\n",
        "\n",
        "print (random.randint(0, 5))\n",
        "\n",
        "random.random() * 100\n",
        "\n",
        "random.choice( ['red', 'black', 'green'] )\n",
        "\n",
        "\n",
        "myList = [2, 109, False, 10, \"Lorem\", 482, \"Ipsum\"]\n",
        "random.choice(myList)\n",
        "\n",
        "random.shuffle(list)"
      ],
      "execution_count": 0,
      "outputs": []
    },
    {
      "cell_type": "code",
      "metadata": {
        "id": "HhW9HtoBYKmP",
        "colab_type": "code",
        "colab": {}
      },
      "source": [
        "# Eg. 1\n",
        "\n",
        "import random\n",
        "for i in range(3):\n",
        "    print (random.randrange(0, 101, 5))"
      ],
      "execution_count": 0,
      "outputs": []
    },
    {
      "cell_type": "code",
      "metadata": {
        "id": "jJ4lSn79YR3d",
        "colab_type": "code",
        "colab": {}
      },
      "source": [
        "# Eg. 2\n",
        "\n",
        "from random import shuffle\n",
        "x = [i for i in range(10)]\n",
        "print(\"Before shuffle :\",x)\n",
        "shuffle(x)\n",
        "print(\"After shuffle :\",x)"
      ],
      "execution_count": 0,
      "outputs": []
    },
    {
      "cell_type": "markdown",
      "metadata": {
        "id": "GzogNKOyZv4y",
        "colab_type": "text"
      },
      "source": [
        "# COERCION\n",
        " \n",
        "Coercion is the implicit conversion of an instance of one type to another during an operation which involves two arguments of the same type."
      ]
    },
    {
      "cell_type": "code",
      "metadata": {
        "id": "P_KgRgc4Z2vM",
        "colab_type": "code",
        "colab": {}
      },
      "source": [
        "import tensorflow\n",
        "\n",
        "print(coerce(1, 1.5))\n",
        "\n",
        "print(coerce(1 + 2j, 1))\n",
        "\n",
        "print(coerce(1.0, 1+3j))\n",
        "\n",
        "print(coerce('foo', 1+3j))"
      ],
      "execution_count": 0,
      "outputs": []
    },
    {
      "cell_type": "markdown",
      "metadata": {
        "id": "GxogfQJ_cWvJ",
        "colab_type": "text"
      },
      "source": [
        "# RECURSION\n",
        "Recursion is the process of defining something in terms of itself.\n",
        "\n",
        "In simple words, calling a function again & again"
      ]
    },
    {
      "cell_type": "code",
      "metadata": {
        "id": "5_VO1cbfcd-B",
        "colab_type": "code",
        "colab": {}
      },
      "source": [
        "def calc_factorial(x):\n",
        "    if x == 1:\n",
        "        return 1\n",
        "    else:\n",
        "        return (x * calc_factorial(x-1))\n",
        "\n",
        "num = 5\n",
        "print(\"The factorial of\", num, \"is\", calc_factorial(num))\t"
      ],
      "execution_count": 0,
      "outputs": []
    }
  ]
}