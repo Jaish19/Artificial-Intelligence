{
  "nbformat": 4,
  "nbformat_minor": 0,
  "metadata": {
    "colab": {
      "name": "Untitled7.ipynb",
      "provenance": []
    },
    "kernelspec": {
      "name": "python3",
      "display_name": "Python 3"
    }
  },
  "cells": [
    {
      "cell_type": "markdown",
      "metadata": {
        "id": "4VeJo2ttfQHC",
        "colab_type": "text"
      },
      "source": [
        "#     DICTIONARY: ITS A COLLECTION OF KEYS AND VALUES\n"
      ]
    },
    {
      "cell_type": "code",
      "metadata": {
        "id": "7jBdqGzxeB63",
        "colab_type": "code",
        "colab": {},
        "cellView": "code"
      },
      "source": [
        "d1={}\n",
        "\n",
        "d1 = dict()\n",
        "type(d1)\n",
        "\n",
        "d1={'a':1,'b':2}\n",
        "d2={'name':'jai','Age':24,'location':'chennai'}\n",
        "d3={1:1,2:4,3:9}\n",
        "\n",
        "len(d1)\n",
        "\n",
        "d1.keys()\n",
        "d1.values()\n",
        "\n",
        "\n",
        "c=d1.keys()\n",
        "type(c)\n",
        "d=d1.values()\n",
        "type(d)\n",
        "\n",
        "for i in d1:\n",
        "\tprint(i)\n",
        "\n",
        "\n",
        "d1['c']=3\n",
        "d1['d']=4\n",
        "\n",
        "d1.update({'e':5,6:7})\n",
        "\n",
        "d1.copy()\n",
        "\n",
        "d1.clear()"
      ],
      "execution_count": 0,
      "outputs": []
    },
    {
      "cell_type": "markdown",
      "metadata": {
        "id": "JtM2SvojKHEC",
        "colab_type": "text"
      },
      "source": [
        "# Dictionary with Iterations\n"
      ]
    },
    {
      "cell_type": "code",
      "metadata": {
        "id": "J23PtdoVg4IZ",
        "colab_type": "code",
        "colab": {}
      },
      "source": [
        "# Eg.1\n",
        "\n",
        "for k,v in d1.items():\n",
        "    print k,v\n",
        "\n",
        "\n",
        "# Eg. 2    \n",
        "for k,v in d1.items():\n",
        "    print(k,v**2)\n",
        "\n",
        "\n",
        "# Eg.3\n",
        "\n",
        "l1=[1,1,1,1,2,2,3,3,3]\n",
        "d4={}\n",
        "for i in l1:\n",
        "    d4[i]=l1.count(i)"
      ],
      "execution_count": 0,
      "outputs": []
    },
    {
      "cell_type": "markdown",
      "metadata": {
        "id": "cfXrIoiPKTVI",
        "colab_type": "text"
      },
      "source": [
        "# counters"
      ]
    },
    {
      "cell_type": "code",
      "metadata": {
        "id": "w34e24FrjJrk",
        "colab_type": "code",
        "colab": {}
      },
      "source": [
        "from collections import Counter\n",
        "var_one='pppyyyytttthooonnnnn'\n",
        "count=Counter(var_one)\n",
        "print(count)"
      ],
      "execution_count": 0,
      "outputs": []
    },
    {
      "cell_type": "markdown",
      "metadata": {
        "id": "KG2jp70LoUbe",
        "colab_type": "text"
      },
      "source": [
        "# SORTED AND ZIP\n"
      ]
    },
    {
      "cell_type": "code",
      "metadata": {
        "id": "Pyd6IvmpjOk7",
        "colab_type": "code",
        "colab": {
          "base_uri": "https://localhost:8080/",
          "height": 54
        },
        "outputId": "4e9ee08d-67ee-4bea-8a2c-c2378d6223c8"
      },
      "source": [
        "d1={'A':1,'B':2,'C':3}\n",
        "\n",
        "sorted(d1.keys())\n",
        "sorted(d1.values())\n",
        "\n",
        "# ZIP\n",
        "\n",
        "l1=['a','b','c','d']\n",
        "l2=[1,2,3]\n",
        "\n",
        "print(zip(l1,l2))\n",
        "print(dict(zip(l1,l2)))"
      ],
      "execution_count": 13,
      "outputs": [
        {
          "output_type": "stream",
          "text": [
            "<zip object at 0x7f48123e8248>\n",
            "{'a': 1, 'b': 2, 'c': 3}\n"
          ],
          "name": "stdout"
        }
      ]
    }
  ]
}