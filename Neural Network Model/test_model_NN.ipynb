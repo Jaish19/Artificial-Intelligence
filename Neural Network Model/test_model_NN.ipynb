{
  "nbformat": 4,
  "nbformat_minor": 0,
  "metadata": {
    "colab": {
      "name": "Untitled6.ipynb",
      "provenance": []
    },
    "kernelspec": {
      "name": "python3",
      "display_name": "Python 3"
    }
  },
  "cells": [
    {
      "cell_type": "code",
      "metadata": {
        "id": "25fZh19_Csar",
        "colab_type": "code",
        "colab": {}
      },
      "source": [
        "!git clone https://github.com/Jaish19/Artificial-Intelligence.git"
      ],
      "execution_count": 0,
      "outputs": []
    },
    {
      "cell_type": "code",
      "metadata": {
        "id": "XgBR5tyJCvr8",
        "colab_type": "code",
        "colab": {}
      },
      "source": [
        "from sklearn.externals import joblib\n",
        "import tensorflow as tf\n",
        "from tensorflow import keras\n",
        "\n",
        "# Load our trained model\n",
        "model = keras.models.load_model('/content/Artificial-Intelligence/Neural Network Model/house_value_model.h5')\n",
        "\n",
        "# Load the data scalers so that we can transform new data and prediction the same way as training data.\n",
        "X_scaler = joblib.load('/content/Artificial-Intelligence/Neural Network Model/X_scaler.pkl')\n",
        "y_scaler = joblib.load('/content/Artificial-Intelligence/Neural Network Model/y_scaler.pkl')\n",
        "\n",
        "# Define the house that we want to value (with the values in the same order as in the training data).\n",
        "house_1 = [\n",
        "    2000,  # Size in Square Feet\n",
        "    3,  # Number of Bedrooms\n",
        "    2,  # Number of Bathrooms\n",
        "]\n",
        "\n",
        "# Keras assumes we want to predict the values for multiple of houses at once, so it expects an array.\n",
        "# We only want to value a single house, so it will be the only item in our array.\n",
        "homes = [\n",
        "    house_1\n",
        "]\n",
        "\n",
        "# Scale the new data like the training data\n",
        "scaled_home_data = X_scaler.transform(homes)\n",
        "\n",
        "# Make a prediction for each house in the homes array (but we only have one)\n",
        "home_values = model.predict(scaled_home_data)\n",
        "\n",
        "# The prediction from the neural network will be scaled 0 to 1 just like the training data\n",
        "# We need to unscale it using the same factor as we used to scale the training data\n",
        "unscaled_home_values = y_scaler.inverse_transform(home_values)\n",
        "\n",
        "# Since we are only predicting the price of one house, grab the first prediction returned\n",
        "predicted_value = unscaled_home_values[0][0]\n",
        "\n",
        "# Print the results\n",
        "print(\"House details:\")\n",
        "print(f\"- {house_1[0]} sq feet\")\n",
        "print(f\"- {house_1[1]} bedrooms\")\n",
        "print(f\"- {house_1[2]} bathrooms\")\n",
        "print(f\"Estimated value: ${predicted_value:,.2f}\")"
      ],
      "execution_count": 0,
      "outputs": []
    }
  ]
}