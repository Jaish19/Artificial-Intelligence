{
  "nbformat": 4,
  "nbformat_minor": 0,
  "metadata": {
    "colab": {
      "name": "Untitled9.ipynb",
      "provenance": []
    },
    "kernelspec": {
      "name": "python3",
      "display_name": "Python 3"
    },
    "accelerator": "GPU"
  },
  "cells": [
    {
      "cell_type": "code",
      "metadata": {
        "id": "X_aEFdxeR8Xa",
        "colab_type": "code",
        "colab": {}
      },
      "source": [
        "pip install face_recognition"
      ],
      "execution_count": 0,
      "outputs": []
    },
    {
      "cell_type": "code",
      "metadata": {
        "id": "xZ5erxImRdB1",
        "colab_type": "code",
        "colab": {
          "base_uri": "https://localhost:8080/",
          "height": 50
        },
        "outputId": "4cf52cc5-0ea8-42d0-f362-d8572ee5f068"
      },
      "source": [
        "import face_recognition\n",
        "\n",
        "# Load the known images\n",
        "image_of_person_1 = face_recognition.load_image_file(\"/content/Artificial-Intelligence/Face_recognition/known_person_1.jpg\")\n",
        "image_of_person_2 = face_recognition.load_image_file(\"/content/Artificial-Intelligence/Face_recognition/known_person_2.jpg\")\n",
        "\n",
        "# Get the face encoding of each person. This can fail if no one is found in the photo.\n",
        "person_1_face_encoding = face_recognition.face_encodings(image_of_person_1)[0]\n",
        "person_2_face_encoding = face_recognition.face_encodings(image_of_person_2)[0]\n",
        "\n",
        "# Create a list of all known face encodings\n",
        "known_face_encodings = [\n",
        "    person_1_face_encoding,\n",
        "    person_2_face_encoding,\n",
        "]\n",
        "\n",
        "# Load the image we want to check\n",
        "unknown_image = face_recognition.load_image_file(\"/content/Artificial-Intelligence/Face_recognition/test_image.jpg\")\n",
        "\n",
        "# Get face encodings for any people in the picture\n",
        "unknown_face_encodings = face_recognition.face_encodings(unknown_image)\n",
        "\n",
        "# There might be more than one person in the photo, so we need to loop over each face we found\n",
        "for unknown_face_encoding in unknown_face_encodings:\n",
        "    face_distances = face_recognition.face_distance(known_face_encodings, unknown_face_encoding)\n",
        "    print(f\"Distance between unknown image and each known image: {face_distances}\")\n",
        "\n",
        "    # Test if this unknown face encoding matches any of the two people we know\n",
        "    results = face_recognition.compare_faces(known_face_encodings, unknown_face_encoding, tolerance=0.6)\n",
        "\n",
        "    if results[0]:\n",
        "        print(f\"Found Person 1 in the photo!\")\n",
        "    if results[1]:\n",
        "        print(f\"Found Person 2 in the photo!\")\n",
        "\n"
      ],
      "execution_count": 3,
      "outputs": [
        {
          "output_type": "stream",
          "text": [
            "Distance between unknown image and each known image: [0.50084682 0.92704125]\n",
            "Found Person 1 in the photo!\n"
          ],
          "name": "stdout"
        }
      ]
    }
  ]
}