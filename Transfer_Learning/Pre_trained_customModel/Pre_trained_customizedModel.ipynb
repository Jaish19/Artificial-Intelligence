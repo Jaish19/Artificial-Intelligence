{
  "nbformat": 4,
  "nbformat_minor": 0,
  "metadata": {
    "colab": {
      "name": "Untitled1.ipynb",
      "provenance": []
    },
    "kernelspec": {
      "name": "python3",
      "display_name": "Python 3"
    },
    "accelerator": "GPU"
  },
  "cells": [
    {
      "cell_type": "code",
      "metadata": {
        "id": "pdxVC0hnBMo3",
        "colab_type": "code",
        "colab": {}
      },
      "source": [
        "from pathlib import Path\n",
        "import numpy as np\n",
        "import joblib\n",
        "from keras.preprocessing import image\n",
        "from keras.applications import xception\n",
        "\n",
        "# Empty lists to hold the images and labels for each each image\n",
        "x_train = []\n",
        "y_train = []"
      ],
      "execution_count": 0,
      "outputs": []
    },
    {
      "cell_type": "code",
      "metadata": {
        "id": "YmEmDeXKHtyU",
        "colab_type": "code",
        "colab": {}
      },
      "source": [
        "!git clone https://github.com/Jaish19/Artificial-Intelligence.git"
      ],
      "execution_count": 0,
      "outputs": []
    },
    {
      "cell_type": "code",
      "metadata": {
        "id": "_9Es9qfMKV5l",
        "colab_type": "code",
        "colab": {}
      },
      "source": [
        "!ls"
      ],
      "execution_count": 0,
      "outputs": []
    },
    {
      "cell_type": "code",
      "metadata": {
        "id": "pFzZzArPBQW6",
        "colab_type": "code",
        "colab": {}
      },
      "source": [
        "# Load the training data set by looping over every image file\n",
        "for image_file in Path(\"/content/Artificial-Intelligence/Transfer_Learning/Pre_trained_customModel/training_dataset\").glob(\"**/*.png\"):\n",
        "\n",
        "    # Load the current image file\n",
        "    image_data = image.load_img(image_file, target_size=(73, 73))\n",
        "\n",
        "    # Convert the loaded image file to a numpy array\n",
        "    image_array = image.img_to_array(image_data)\n",
        "\n",
        "    # Add the current image to our list of training images\n",
        "    x_train.append(image_array)\n",
        "\n",
        "    # Add a label for this image. If it was a not_bird image, label it 0. If it was a bird, label it 1.\n",
        "    if \"not_bird\" in image_file.stem:\n",
        "        y_train.append(0)\n",
        "    else:\n",
        "        y_train.append(1)"
      ],
      "execution_count": 0,
      "outputs": []
    },
    {
      "cell_type": "code",
      "metadata": {
        "id": "sBfVYK56BbwT",
        "colab_type": "code",
        "colab": {}
      },
      "source": [
        "# Convert the list of separate images into a single 4D numpy array. This is what Keras expects.\n",
        "x_train = np.array(x_train)\n",
        "\n",
        "# Normalize image data to 0-to-1 range\n",
        "x_train = xception.preprocess_input(x_train)\n",
        "\n",
        "# Load the pre-trained neural network to use as a feature extractor\n",
        "feature_extractor = xception.Xception(weights='imagenet', include_top=False, input_shape=(73, 73, 3))\n",
        "\n",
        "# Extract features for each image (all in one pass)\n",
        "features_x = feature_extractor.predict(x_train)\n",
        "\n",
        "# Save the array of extracted features to a file\n",
        "joblib.dump(features_x, \"x_train.dat\")\n",
        "\n",
        "# Save the matching array of expected values to a file\n",
        "joblib.dump(y_train, \"y_train.dat\")\n"
      ],
      "execution_count": 0,
      "outputs": []
    },
    {
      "cell_type": "code",
      "metadata": {
        "id": "9sXXX9VOBmpv",
        "colab_type": "code",
        "colab": {}
      },
      "source": [
        "# Load data set of extracted features\n",
        "x_train = joblib.load(\"x_train.dat\")\n",
        "y_train = joblib.load(\"y_train.dat\")\n"
      ],
      "execution_count": 0,
      "outputs": []
    },
    {
      "cell_type": "code",
      "metadata": {
        "id": "CvvFDEMpKwQt",
        "colab_type": "code",
        "colab": {}
      },
      "source": [
        "from keras.models import Sequential\n",
        "from keras.layers import Dense, Dropout, Flatten"
      ],
      "execution_count": 0,
      "outputs": []
    },
    {
      "cell_type": "code",
      "metadata": {
        "id": "Nn81_QfVBvuj",
        "colab_type": "code",
        "colab": {}
      },
      "source": [
        "# Create a model and add layers\n",
        "model = Sequential()\n",
        "\n",
        "# Add layers to our model\n",
        "model.add(Flatten(input_shape=x_train.shape[1:]))\n",
        "model.add(Dense(128, activation='relu'))\n",
        "model.add(Dropout(0.5))\n",
        "model.add(Dense(1, activation='sigmoid'))\n",
        "\n",
        "# Compile the model\n",
        "model.compile(\n",
        "    loss='binary_crossentropy',\n",
        "    optimizer='adam',\n",
        "    metrics=['accuracy']\n",
        ")\n"
      ],
      "execution_count": 0,
      "outputs": []
    },
    {
      "cell_type": "code",
      "metadata": {
        "id": "-Rxngy6-Bynu",
        "colab_type": "code",
        "colab": {}
      },
      "source": [
        "# Train the model\n",
        "model.fit(\n",
        "    x_train,\n",
        "    y_train,\n",
        "    validation_split=0.05,\n",
        "    epochs=10,\n",
        "    shuffle=True,\n",
        "    verbose=2\n",
        ")\n",
        "\n",
        "# Save the trained model to a file so we can use it to make predictions later\n",
        "model.save(\"bird_feature_classifier_model.h5\")"
      ],
      "execution_count": 0,
      "outputs": []
    },
    {
      "cell_type": "code",
      "metadata": {
        "id": "UZLgCYOnB1k-",
        "colab_type": "code",
        "colab": {}
      },
      "source": [
        "from keras.models import load_model\n",
        "from sklearn.metrics import confusion_matrix, classification_report"
      ],
      "execution_count": 0,
      "outputs": []
    },
    {
      "cell_type": "code",
      "metadata": {
        "id": "yUqfBf9ECFBU",
        "colab_type": "code",
        "colab": {}
      },
      "source": [
        "# Empty lists to hold the images and labels for each each image\n",
        "x_test = []\n",
        "y_test = []\n",
        "\n",
        "# Load the test data set by looping over every image file\n",
        "for image_file in Path(\"/content/Artificial-Intelligence/Transfer_Learning/Pre_trained_customModel/test_dataset\").glob(\"**/*.png\"):\n",
        "\n",
        "    # Load the current image file\n",
        "    image_data = image.load_img(image_file, target_size=(73, 73))\n",
        "\n",
        "    # Convert the loaded image file to a numpy array\n",
        "    image_array = image.img_to_array(image_data)\n",
        "\n",
        "    # Add the current image to our list of test images\n",
        "    x_test.append(image_array)\n",
        "\n",
        "    # Add an expected label for this image. If it was a not_bird image, label it 0. If it was a bird, label it 1.\n",
        "    if \"not_bird\" in image_file.stem:\n",
        "        y_test.append(0)\n",
        "    else:\n",
        "        y_test.append(1)\n",
        "\n",
        "# Convert the list of test images to a numpy array\n",
        "x_test = np.array(x_test)\n",
        "\n",
        "# Normalize test data set to 0-to-1 range\n",
        "x_test = xception.preprocess_input(x_test)"
      ],
      "execution_count": 0,
      "outputs": []
    },
    {
      "cell_type": "code",
      "metadata": {
        "id": "mPYbXZBMCSGn",
        "colab_type": "code",
        "colab": {}
      },
      "source": [
        "# Load our trained classifier model\n",
        "model = load_model(\"bird_feature_classifier_model.h5\")\n",
        "\n",
        "# Extract features for each image (all in one pass)\n",
        "features_x = feature_extractor.predict(x_test)\n",
        "\n",
        "# Given the extracted features, make a final prediction using our own model\n",
        "predictions = model.predict(features_x)\n",
        "\n",
        "# If the model is more than 50% sure the object is a bird, call it a bird.\n",
        "# Otherwise, call it \"not a bird\".\n",
        "predictions = predictions > 0.5\n",
        "\n",
        "# Calculate how many mis-classifications the model makes\n",
        "tn, fp, fn, tp = confusion_matrix(y_test, predictions).ravel()\n",
        "print(f\"True Positives: {tp}\")\n",
        "print(f\"True Negatives: {tn}\")\n",
        "print(f\"False Positives: {fp}\")\n",
        "print(f\"False Negatives: {fn}\")\n",
        "\n",
        "# Calculate Precision and Recall for each class\n",
        "report = classification_report(y_test, predictions)\n",
        "print(report)"
      ],
      "execution_count": 0,
      "outputs": []
    }
  ]
}