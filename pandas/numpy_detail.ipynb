{
  "nbformat": 4,
  "nbformat_minor": 0,
  "metadata": {
    "colab": {
      "provenance": []
    },
    "kernelspec": {
      "name": "python3",
      "display_name": "Python 3"
    },
    "language_info": {
      "name": "python"
    }
  },
  "cells": [
    {
      "cell_type": "code",
      "execution_count": 4,
      "metadata": {
        "colab": {
          "base_uri": "https://localhost:8080/"
        },
        "id": "5ay18EhEVKYH",
        "outputId": "e95bd300-e1eb-45bf-bba3-202c98add66f"
      },
      "outputs": [
        {
          "output_type": "stream",
          "name": "stdout",
          "text": [
            "<class 'numpy.ndarray'>\n",
            "[1 2 3 4 5]\n",
            "[1 2 3 4 5]\n"
          ]
        }
      ],
      "source": [
        "# NUMPY\n",
        "\n",
        "# NumPy is a Python library used for working with arrays.\n",
        "# NumPy aims to provide an array object that is up to 50x faster than traditional Python lists.\n",
        "\n",
        "import numpy as np\n",
        "\n",
        "arr = np.array([1,2,3,4,5])\n",
        "# arr = np.array((1,2,3,4,5))\n",
        "print(type(arr))\n",
        "print(arr)"
      ]
    },
    {
      "cell_type": "code",
      "source": [
        "# NUMPY - ARRAY DIMENSIONS\n",
        "import numpy as np\n",
        "arr = np.array(42) # 0-D array\n",
        "print(arr.ndim)\n",
        "\n",
        "arr = np.array([1,2,3,4,5]) # 1D array\n",
        "print(arr.ndim)\n",
        "\n",
        "arr = np.array([[1,2,3], [4,5,6]]) # 2D array\n",
        "print(arr.ndim)\n",
        "\n",
        "arr = np.array([[[1,2,3], [4,5,6]],[[7,8,9],[10,11,12]]])\n",
        "print(arr.ndim)"
      ],
      "metadata": {
        "colab": {
          "base_uri": "https://localhost:8080/"
        },
        "id": "M3AKBOcBXSJe",
        "outputId": "9a4db986-315d-41a5-9303-a9d4fc18c0f8"
      },
      "execution_count": 8,
      "outputs": [
        {
          "output_type": "stream",
          "name": "stdout",
          "text": [
            "0\n",
            "1\n",
            "2\n",
            "3\n"
          ]
        }
      ]
    },
    {
      "cell_type": "code",
      "source": [
        "# ARRAY INDEXING\n",
        "\n",
        "import numpy as np\n",
        "arr = np.array([1,2,3,4,5])\n",
        "print(arr[0])\n",
        "\n",
        "arr = np.array([[1,2,3], [4,5,6]]) # 2D array\n",
        "print(arr[0,1]) #2nd element on 1st row\n",
        "print(arr[1,2]) #3rd element on 2nd row\n",
        "print('Last element from 2nd dim: ', arr[1, -1])\n",
        "\n",
        "\n",
        "arr = np.array([[[1,2,3],[4,5,6]],[[7,8,9],[10,11,12]]])\n",
        "print(arr[0,1,2]) # 1st number repr dimension '[[1,2,3],[4,5,6]]' and 2nd repr. index [4,5,6] and 3rd repr. index of [4,5,6]\n",
        "print(arr[1,1,1])"
      ],
      "metadata": {
        "id": "ILhaqpydZBbi"
      },
      "execution_count": null,
      "outputs": []
    },
    {
      "cell_type": "code",
      "source": [
        "# ARRAY SLICING\n",
        "\n",
        "import numpy as np\n",
        "arr = np.array([1,2,3,4,5,5])  # normal slicing as list slicing\n",
        "print(arr[0:2])\n",
        "print(arr[:-1])\n",
        "\n",
        "arr = np.array([[1,2,3,4], [5,6,7,8]])\n",
        "print(arr[1,0:3]) # Doing slicing on 1st index\n",
        "\n",
        "arr = np.array([[1, 2, 3, 4, 5], [6, 7, 8, 9, 10]])\n",
        "\n",
        "print(arr[0:2, 2]) #both the index will return value of index 2\n",
        "\n",
        "arr = np.array([[1, 2, 3, 4, 5], [6, 7, 8, 9, 10]])\n",
        "\n",
        "print(arr[0:2, 1:3]) #both the index will return value of index [1:3] no matters if it's 0:2 or anything.\n"
      ],
      "metadata": {
        "colab": {
          "base_uri": "https://localhost:8080/"
        },
        "id": "gi8A9ViHaz1I",
        "outputId": "6104ad6c-b23c-493f-a7a5-d7dc986285f4"
      },
      "execution_count": 24,
      "outputs": [
        {
          "output_type": "stream",
          "name": "stdout",
          "text": [
            "[1 2]\n",
            "[1 2 3 4 5]\n",
            "[5 6 7]\n",
            "[3 8]\n",
            "[[2 3]\n",
            " [7 8]]\n"
          ]
        }
      ]
    },
    {
      "cell_type": "code",
      "source": [
        "# ARRAY DATATYPE\n",
        "import numpy as np\n",
        "\n",
        "# arr = np.array([1, 2, 3, 4])\n",
        "\n",
        "# print(arr.dtype)\n",
        "\n",
        "arr = np.array(['apple', 'banana', 'cherry'])\n",
        "\n",
        "print(arr.dtype)\n",
        "\n",
        "arr = np.array([1, 2, 3, 4], dtype='S') # Create an array with data type string:\n",
        "\n",
        "print(arr)\n",
        "print(arr.dtype)\n",
        "\n",
        "arr = np.array([1, 2, 3, 4], dtype='i4') # Create an array with data type 4 bytes integer\n",
        "\n",
        "print(arr)\n",
        "print(arr.dtype)\n",
        "\n",
        "arr = np.array([1.1, 2.1, 3.1])\n",
        "\n",
        "newarr = arr.astype(int)\n",
        "\n",
        "print(newarr)\n",
        "print(newarr.dtype)"
      ],
      "metadata": {
        "colab": {
          "base_uri": "https://localhost:8080/"
        },
        "id": "rwFugprhcyAB",
        "outputId": "39ca44b9-8429-45c2-fa24-c7d0df936387"
      },
      "execution_count": 32,
      "outputs": [
        {
          "output_type": "stream",
          "name": "stdout",
          "text": [
            "<U6\n",
            "[b'1' b'2' b'3' b'4']\n",
            "|S1\n",
            "[1 2 3 4]\n",
            "int32\n",
            "[1.1 2.1 3.1]\n",
            "float64\n",
            "[1 2 3]\n",
            "int32\n"
          ]
        }
      ]
    },
    {
      "cell_type": "code",
      "source": [
        "#ARRAY COPY & VIEW\n",
        "\n",
        "import numpy as np\n",
        "\n",
        "arr = np.array([1, 2, 3, 4, 5])\n",
        "#array copy will create the object and never the share the reference of the arr\n",
        "x = arr.copy()\n",
        "arr[0] = 42\n",
        "\n",
        "print(arr)\n",
        "print(x)\n",
        "\n",
        "arr = np.array([1, 2, 3, 4, 5])\n",
        "#view copy will create the object and sharing the reference of the arr\n",
        "\n",
        "x = arr.view()\n",
        "arr[0] = 31\n",
        "x[4] = 100\n",
        "\n",
        "print(arr)\n",
        "print(x)\n",
        "\n",
        "arr = np.array([1, 2, 3, 4, 5])\n",
        "\n",
        "x = arr.copy()\n",
        "y = arr.view()\n",
        "\n",
        "print(x.base) # No base can be viewed here since it's creates the new object\n",
        "print(y.base) # base of array can be shared here"
      ],
      "metadata": {
        "colab": {
          "base_uri": "https://localhost:8080/"
        },
        "id": "VnE3E5L_hBxc",
        "outputId": "bfe16e59-e2e6-4b62-e3e0-df2cce5a82d9"
      },
      "execution_count": 42,
      "outputs": [
        {
          "output_type": "stream",
          "name": "stdout",
          "text": [
            "[42  2  3  4  5]\n",
            "[1 2 3 4 5]\n",
            "[ 31   2   3   4 100]\n",
            "[ 31   2   3   4 100]\n",
            "None\n",
            "[1 2 3 4 5]\n"
          ]
        }
      ]
    },
    {
      "cell_type": "code",
      "source": [
        "# ARRAY SHAPE\n",
        "import numpy as np\n",
        "arr = np.array([[1, 2, 3, 4,5], [5, 6, 7, 8,5]])\n",
        "\n",
        "print(arr.shape) # returns (2,5) 2 -dimension 5 -elements\n"
      ],
      "metadata": {
        "colab": {
          "base_uri": "https://localhost:8080/"
        },
        "id": "SLCvBoDFiqKw",
        "outputId": "b38dab8f-ed45-422e-f792-c5b756f41e0e"
      },
      "execution_count": 45,
      "outputs": [
        {
          "output_type": "stream",
          "name": "stdout",
          "text": [
            "(2, 5)\n"
          ]
        }
      ]
    },
    {
      "cell_type": "code",
      "source": [
        "# ARRAY RESHAPE\n",
        "import numpy as np\n",
        "\n",
        "# Convert the following 1-D array with 12 elements into a 2-D array.\n",
        "\n",
        "# The outermost dimension will have 4 arrays, each with 3 elements:\n",
        "\n",
        "arr = np.array([1, 2, 3, 4, 5, 6, 7, 8, 9, 10, 11, 12])\n",
        "\n",
        "newarr = arr.reshape(4, 3)\n",
        "\n",
        "print(newarr)\n",
        "\n",
        "\n",
        "# Convert the following 1-D array with 12 elements into a 3-D array.\n",
        "\n",
        "# The outermost dimension will have 2 arrays that contains 3 arrays, each with 2 elements:\n",
        "\n",
        "arr = np.array([1, 2, 3, 4, 5, 6, 7, 8, 9, 10, 11, 12])\n",
        "\n",
        "newarr = arr.reshape(2, 3, 2)\n",
        "\n",
        "print(newarr)\n",
        "\n",
        "\n",
        "# Convert the array into a 1D array:\n",
        "\n",
        "arr = np.array([[1, 2, 3], [4, 5, 6]])\n",
        "\n",
        "newarr = arr.reshape(-1)\n",
        "\n",
        "print(newarr)"
      ],
      "metadata": {
        "id": "i52RBX_Ti8ty"
      },
      "execution_count": null,
      "outputs": []
    },
    {
      "cell_type": "code",
      "source": [
        "# ARRAY ITERATION\n",
        "import numpy as np\n",
        "\n",
        "arr = np.array([1,2,3,4,5]) # 1D ARRAY\n",
        "arr = np.array([[1,2,3],[4,5,6]]) # 2D ARRAY\n",
        "for i in arr:\n",
        "  print(i)\n",
        "\n",
        "for idx, x in np.ndenumerate(arr):\n",
        "  print(idx, x)\n",
        "\n",
        "arr = np.array([[[1, 2, 3], [4, 5, 6]], [[7, 8, 9], [10, 11, 12]]]) # 3D ARRAY\n",
        "\n",
        "for x in np.nditer(arr):\n",
        "  print(x)"
      ],
      "metadata": {
        "id": "moHzViPnlwmH"
      },
      "execution_count": null,
      "outputs": []
    },
    {
      "cell_type": "code",
      "source": [
        "# ARRAY JOIN\n",
        "\n",
        "import numpy as np\n",
        "\n",
        "arr1 = np.array([1,2,3])\n",
        "arr2 = np.array([4,5,6])\n",
        "\n",
        "arr3 = np.concatenate((arr1,arr2))\n",
        "print(arr3)\n",
        "\n",
        "\n",
        "# 2D ARRAY\n",
        "arr1 = np.array([[1, 2], [3, 4]])\n",
        "\n",
        "arr2 = np.array([[5, 6], [7, 8]])\n",
        "\n",
        "arr = np.concatenate((arr1, arr2), axis=1)\n",
        "\n",
        "print(arr)\n",
        "\n",
        "# USING STACK FUNCTION\n",
        "arr1 = np.array([1, 2, 3])\n",
        "\n",
        "arr2 = np.array([4, 5, 6])\n",
        "\n",
        "arr = np.stack((arr1, arr2),axis=0)\n",
        "\n",
        "print(arr)\n",
        "\n",
        "#USING HSTACK\n",
        "\n",
        "import numpy as np\n",
        "\n",
        "arr1 = np.array([1, 2, 3])\n",
        "\n",
        "arr2 = np.array([4, 5, 6])\n",
        "\n",
        "arr = np.hstack((arr1, arr2))\n",
        "\n",
        "print(arr)\n",
        "\n",
        "#USING VSTACK\n",
        "\n",
        "import numpy as np\n",
        "\n",
        "arr1 = np.array([1, 2, 3])\n",
        "\n",
        "arr2 = np.array([4, 5, 6])\n",
        "\n",
        "arr = np.vstack((arr1, arr2))\n",
        "\n",
        "print(arr)\n",
        "\n",
        "# Stacking Along Height (depth) - to stack along height, which is the same as depth.\n",
        "import numpy as np\n",
        "\n",
        "arr1 = np.array([1, 2, 3])\n",
        "\n",
        "arr2 = np.array([4, 5, 6])\n",
        "\n",
        "arr = np.dstack((arr1, arr2))\n",
        "\n",
        "print(arr)"
      ],
      "metadata": {
        "colab": {
          "base_uri": "https://localhost:8080/"
        },
        "id": "K03l9koLlzzo",
        "outputId": "386c85fa-6488-493c-fb99-34e657f93869"
      },
      "execution_count": 75,
      "outputs": [
        {
          "output_type": "stream",
          "name": "stdout",
          "text": [
            "[1 2 3 4 5 6]\n",
            "[[1 2]\n",
            " [3 4]\n",
            " [5 6]\n",
            " [7 8]]\n",
            "[[1 2 3]\n",
            " [4 5 6]]\n",
            "[1 2 3 4 5 6]\n",
            "[[1 2 3]\n",
            " [4 5 6]]\n",
            "[[[1 4]\n",
            "  [2 5]\n",
            "  [3 6]]]\n"
          ]
        }
      ]
    },
    {
      "cell_type": "code",
      "source": [
        "# ARRAY SPLIT\n",
        "import numpy as np\n",
        "\n",
        "arr = np.array([1, 2, 3, 4, 5, 6])\n",
        "\n",
        "newarr = np.array_split(arr, 3)\n",
        "\n",
        "print(newarr)\n",
        "\n",
        "arr = np.array([1, 2, 3, 4, 5, 6])\n",
        "\n",
        "newarr = np.array_split(arr, 4)\n",
        "\n",
        "print(newarr)\n",
        "\n",
        "# SPLITING THE 2D ARRAY\n",
        "\n",
        "arr = np.array([[1, 2], [3, 4], [5, 6], [7, 8], [9, 10], [11, 12]])\n",
        "\n",
        "newarr = np.array_split(arr, 3)\n",
        "\n",
        "print(newarr)\n",
        "\n",
        "\n",
        "arr = np.array([[1, 2, 3], [4, 5, 6], [7, 8, 9], [10, 11, 12], [13, 14, 15], [16, 17, 18]])\n",
        "\n",
        "newarr = np.array_split(arr, 3, axis=1) # or newarr = np.hsplit(arr, 3) - both are same\n",
        "\n",
        "print(newarr)\n",
        "\n"
      ],
      "metadata": {
        "colab": {
          "base_uri": "https://localhost:8080/"
        },
        "id": "H-5aZTqloB8g",
        "outputId": "c23e099a-cbdd-4773-c692-f33b99e2b48e"
      },
      "execution_count": 88,
      "outputs": [
        {
          "output_type": "stream",
          "name": "stdout",
          "text": [
            "[array([1, 2]), array([3, 4]), array([5, 6])]\n",
            "[array([1, 2]), array([3, 4]), array([5]), array([6])]\n",
            "[array([[1, 2],\n",
            "       [3, 4]]), array([[5, 6],\n",
            "       [7, 8]]), array([[ 9, 10],\n",
            "       [11, 12]])]\n",
            "[array([[ 1],\n",
            "       [ 4],\n",
            "       [ 7],\n",
            "       [10],\n",
            "       [13],\n",
            "       [16]]), array([[ 2],\n",
            "       [ 5],\n",
            "       [ 8],\n",
            "       [11],\n",
            "       [14],\n",
            "       [17]]), array([[ 3],\n",
            "       [ 6],\n",
            "       [ 9],\n",
            "       [12],\n",
            "       [15],\n",
            "       [18]])]\n",
            "[array([[ 1],\n",
            "       [ 4],\n",
            "       [ 7],\n",
            "       [10],\n",
            "       [13],\n",
            "       [16]]), array([[ 2],\n",
            "       [ 5],\n",
            "       [ 8],\n",
            "       [11],\n",
            "       [14],\n",
            "       [17]]), array([[ 3],\n",
            "       [ 6],\n",
            "       [ 9],\n",
            "       [12],\n",
            "       [15],\n",
            "       [18]])]\n"
          ]
        }
      ]
    },
    {
      "cell_type": "code",
      "source": [
        "# NUMPY ARRAY SEARCH\n",
        "\n",
        "import numpy as np\n",
        "\n",
        "arr = np.array([1, 2, 3, 4, 5, 4, 4])\n",
        "\n",
        "x = np.where(arr == 4)  # Which means that the value 4 is present at index 3, 5, and 6.\n",
        "\n",
        "print(x)\n",
        "\n",
        "\n",
        "arr = np.array([10,11,25,14,85,92,48])\n",
        "\n",
        "x = np.where(arr%2 == 0) # which returns the eventh positions\n",
        "\n",
        "print(x)\n",
        "\n",
        "\n",
        "# SEARCH SORT -\n",
        "import numpy as np\n",
        "\n",
        "arr = np.array([4,7,2,3,6,8,9,8,5,2])\n",
        "\n",
        "x = np.searchsorted(arr, 7) # It'll return the position where the 7 needs to placed from left side iteration\n",
        "\n",
        "print(x)\n",
        "\n",
        "\n",
        "arr = np.array([4,7,2,3,6,8,9,8,5,2])\n",
        "\n",
        "x = np.searchsorted(arr, 7, side='right') # It'll return the position where the 7 needs to placed from left side iteration\n",
        "\n",
        "print(x)\n",
        "\n",
        "arr = np.array([1, 3, 5, 7])\n",
        "\n",
        "x = np.searchsorted(arr, [2, 4, 6]) # It'll return the position where the [2,4,6] needs to placed from left side iteration ouput:[1,2,3]\n",
        "\n",
        "print(x)\n"
      ],
      "metadata": {
        "colab": {
          "base_uri": "https://localhost:8080/"
        },
        "id": "B6mz7iaQp2X3",
        "outputId": "70e71d0b-5e73-47e4-e4a8-8c8ed4d21744"
      },
      "execution_count": 105,
      "outputs": [
        {
          "output_type": "stream",
          "name": "stdout",
          "text": [
            "(array([3, 5, 6]),)\n",
            "(array([0, 3, 5, 6]),)\n",
            "5\n"
          ]
        }
      ]
    },
    {
      "cell_type": "code",
      "source": [
        "# ARRAY SORTING\n",
        "\n",
        "import numpy as np\n",
        "\n",
        "arr = np.array([3, 2, 0, 1])\n",
        "\n",
        "print(np.sort(arr))\n",
        "\n",
        "arr = np.array(['banana', 'cherry', 'apple'])\n",
        "\n",
        "print(np.sort(arr))\n",
        "\n",
        "arr = np.array([True, False, True])\n",
        "\n",
        "print(np.sort(arr))\n",
        "\n",
        "arr = np.array([[3, 2, 4], [5, 0, 1]])\n",
        "\n",
        "print(np.sort(arr))"
      ],
      "metadata": {
        "colab": {
          "base_uri": "https://localhost:8080/"
        },
        "id": "c4082UJ-sd_1",
        "outputId": "4ee6d03d-4f61-496d-8430-22dc28a245c3"
      },
      "execution_count": 109,
      "outputs": [
        {
          "output_type": "stream",
          "name": "stdout",
          "text": [
            "[0 1 2 3]\n",
            "['apple' 'banana' 'cherry']\n",
            "[False  True  True]\n",
            "[[2 3 4]\n",
            " [0 1 5]]\n"
          ]
        }
      ]
    },
    {
      "cell_type": "code",
      "source": [
        "# ARRAY FILTERING\n",
        "\n",
        "import numpy as np\n",
        "\n",
        "arr = np.array([41, 42, 43, 44])\n",
        "\n",
        "x = [True, False, True, False]\n",
        "\n",
        "newarr = arr[x]\n",
        "\n",
        "print(newarr)\n",
        "\n",
        "\n",
        "\n",
        "# CREATING THE FILTER ARRAY - EXAMPLE 2\n",
        "\n",
        "import numpy as np\n",
        "\n",
        "arr = np.array([41, 42, 43, 44])\n",
        "\n",
        "# Create an empty list\n",
        "filter_arr = []\n",
        "\n",
        "# go through each element in arr\n",
        "for element in arr:\n",
        "  # if the element is higher than 42, set the value to True, otherwise False:\n",
        "  if element > 42:\n",
        "    filter_arr.append(True)\n",
        "  else:\n",
        "    filter_arr.append(False)\n",
        "\n",
        "newarr = arr[filter_arr]\n",
        "\n",
        "print(filter_arr)\n",
        "print(newarr)\n",
        "\n",
        "#EXAMPLE 3\n",
        "\n",
        "arr = np.array([41, 42, 43, 44])\n",
        "\n",
        "filter_arr = arr > 42\n",
        "\n",
        "newarr = arr[filter_arr]\n",
        "\n",
        "print(filter_arr)\n",
        "print(newarr)"
      ],
      "metadata": {
        "colab": {
          "base_uri": "https://localhost:8080/"
        },
        "id": "B4s7m1TNs4Vo",
        "outputId": "a4b4717b-d576-467f-c5f6-37ad46a5d40d"
      },
      "execution_count": 110,
      "outputs": [
        {
          "output_type": "stream",
          "name": "stdout",
          "text": [
            "[41 43]\n"
          ]
        }
      ]
    },
    {
      "cell_type": "code",
      "source": [],
      "metadata": {
        "colab": {
          "base_uri": "https://localhost:8080/"
        },
        "id": "TI0qMXpPtLYp",
        "outputId": "edf80dc9-5475-41ff-efe2-29bc56bc78c1"
      },
      "execution_count": 111,
      "outputs": [
        {
          "output_type": "stream",
          "name": "stdout",
          "text": [
            "[False False  True  True]\n",
            "[43 44]\n"
          ]
        }
      ]
    }
  ]
}