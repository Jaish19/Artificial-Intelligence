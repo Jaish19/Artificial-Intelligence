{
  "nbformat": 4,
  "nbformat_minor": 0,
  "metadata": {
    "colab": {
      "provenance": []
    },
    "kernelspec": {
      "name": "python3",
      "display_name": "Python 3"
    },
    "language_info": {
      "name": "python"
    }
  },
  "cells": [
    {
      "cell_type": "code",
      "execution_count": 8,
      "metadata": {
        "colab": {
          "base_uri": "https://localhost:8080/"
        },
        "id": "rpplvU7L1zAR",
        "outputId": "3fcc8d22-e1f8-4ac3-9868-b06f1e3b4118"
      },
      "outputs": [
        {
          "output_type": "stream",
          "name": "stdout",
          "text": [
            "0    10\n",
            "1    20\n",
            "2    30\n",
            "dtype: int64\n",
            "30\n"
          ]
        }
      ],
      "source": [
        "import pandas as pd\n",
        "data= [10,20,30]\n",
        "ser  = pd.Series(data)\n",
        "print(ser)\n",
        "print(ser[2])"
      ]
    },
    {
      "cell_type": "code",
      "source": [
        "# With the index argument, you can name your own labels.\n",
        "\n",
        "ser = pd.Series(data, index=['a','b','c'])\n",
        "print(ser)\n",
        "print(ser['c'])"
      ],
      "metadata": {
        "colab": {
          "base_uri": "https://localhost:8080/"
        },
        "id": "awqnsSJt2mus",
        "outputId": "d368fa12-d6f2-46ef-a991-30f8d60106b4"
      },
      "execution_count": 10,
      "outputs": [
        {
          "output_type": "stream",
          "name": "stdout",
          "text": [
            "a    10\n",
            "b    20\n",
            "c    30\n",
            "dtype: int64\n",
            "30\n"
          ]
        }
      ]
    },
    {
      "cell_type": "code",
      "source": [
        "# You can also use a key/value object, like a dictionary, when creating a Series.\n",
        "\n",
        "import pandas as pd\n",
        "\n",
        "VarVal = {\"ValueOne\": 100, \"ValueTwo\": 200, \"ValueThree\": 300}\n",
        "\n",
        "serVal = pd.Series(VarVal)\n",
        "\n",
        "print(serVal)\n",
        "print(serVal['ValueOne'])\n",
        "print(serVal[0])"
      ],
      "metadata": {
        "colab": {
          "base_uri": "https://localhost:8080/"
        },
        "id": "dnBqj0TY3BHq",
        "outputId": "634146a8-e5db-495a-dcef-5b1284ad08cd"
      },
      "execution_count": 15,
      "outputs": [
        {
          "output_type": "stream",
          "name": "stdout",
          "text": [
            "ValueOne      100\n",
            "ValueTwo      200\n",
            "ValueThree    300\n",
            "dtype: int64\n",
            "100\n",
            "100\n"
          ]
        }
      ]
    },
    {
      "cell_type": "code",
      "source": [
        "# To select only some of the items in the dictionary, use the index argument and specify only the items you want to include in the Series.\n",
        "\n",
        "import pandas as pd\n",
        "\n",
        "VarVal = {\"ValueOne\": 100, \"ValueTwo\": 200, \"ValueThree\": 300}\n",
        "\n",
        "serVal = pd.Series(VarVal, index=['ValueOne', 'ValueTwo'])\n",
        "print(serVal)\n"
      ],
      "metadata": {
        "colab": {
          "base_uri": "https://localhost:8080/"
        },
        "id": "ugU8Mm1n3xjc",
        "outputId": "656f269f-d836-4f75-cedf-1c81aa47f265"
      },
      "execution_count": 16,
      "outputs": [
        {
          "output_type": "stream",
          "name": "stdout",
          "text": [
            "ValueOne    100\n",
            "ValueTwo    200\n",
            "dtype: int64\n"
          ]
        }
      ]
    },
    {
      "cell_type": "code",
      "source": [
        "# DataFrames\n",
        "# Data sets in Pandas are usually multi-dimensional tables, called DataFrames.\n",
        "\n",
        "# Series is like a column, a DataFrame is the whole table.\n",
        "\n",
        "import pandas as pd\n",
        "\n",
        "d1 = {\n",
        "    \"Name\":[\"XXX\",\"YYY\",\"ZZZ\"],\n",
        "    \"Age\":[10,20,30],\n",
        "    \"Location\":[\"Chennai\",\"Delhi\",\"Kerala\"]\n",
        "}\n",
        "df = pd.DataFrame(d1)\n",
        "print(df)\n"
      ],
      "metadata": {
        "colab": {
          "base_uri": "https://localhost:8080/"
        },
        "id": "Qkx5gIQ148Al",
        "outputId": "c091e245-52d4-4f5c-fdb5-a746f0d39355"
      },
      "execution_count": 42,
      "outputs": [
        {
          "output_type": "stream",
          "name": "stdout",
          "text": [
            "  Name  Age Location\n",
            "0  XXX   10  Chennai\n",
            "1  YYY   20    Delhi\n",
            "2  ZZZ   30   Kerala\n"
          ]
        }
      ]
    },
    {
      "cell_type": "code",
      "source": [
        "# loc = returning the row values\n",
        "\n",
        "# return row 1 value\n",
        "print(df.loc[1])\n",
        "\n",
        "# return/selecting row 0 & 1\n",
        "\n",
        "print(df.loc[[0,1]])\n",
        "\n",
        "#return/selecting the two column values\n",
        "print(df[['Name',\"Location\"]])"
      ],
      "metadata": {
        "colab": {
          "base_uri": "https://localhost:8080/"
        },
        "id": "F0eicO3S58jT",
        "outputId": "65b087c9-f636-404e-cdfb-802213b5bcfd"
      },
      "execution_count": 43,
      "outputs": [
        {
          "output_type": "stream",
          "name": "stdout",
          "text": [
            "Name          YYY\n",
            "Age            20\n",
            "Location    Delhi\n",
            "Name: 1, dtype: object\n",
            "  Name  Age Location\n",
            "0  XXX   10  Chennai\n",
            "1  YYY   20    Delhi\n",
            "  Name Location\n",
            "0  XXX  Chennai\n",
            "1  YYY    Delhi\n",
            "2  ZZZ   Kerala\n"
          ]
        }
      ]
    },
    {
      "cell_type": "code",
      "source": [
        "# Specific Index name if wants to add - Named Index\n",
        "\n",
        "df = pd.DataFrame(d1, index=['a','b','c'])\n",
        "print(df)\n",
        "\n",
        "#return the named index a value\n",
        "print(df.loc['a'])\n"
      ],
      "metadata": {
        "colab": {
          "base_uri": "https://localhost:8080/"
        },
        "id": "exwrYbFu6r8V",
        "outputId": "886cbf4b-b9cd-47cc-e133-71e55255b86d"
      },
      "execution_count": 40,
      "outputs": [
        {
          "output_type": "stream",
          "name": "stdout",
          "text": [
            "  Name  Age Location\n",
            "a  XXX   10  Chennai\n",
            "b  YYY   20    Delhi\n",
            "c  ZZZ   30   Kerala\n",
            "Name            XXX\n",
            "Age              10\n",
            "Location    Chennai\n",
            "Name: a, dtype: object\n"
          ]
        }
      ]
    },
    {
      "cell_type": "code",
      "source": [
        "#Reading the CSV\n",
        "import pandas as pd\n",
        "\n",
        "df = pd.read_csv('/content/sample_data/data.csv')\n",
        "#will return first & last 5 rows\n",
        "print(df)\n",
        "#will return the entire data\n",
        "print(df.to_string())"
      ],
      "metadata": {
        "id": "-KeBDCMm649k"
      },
      "execution_count": null,
      "outputs": []
    },
    {
      "cell_type": "code",
      "source": [
        "#Analyzing the data\n",
        "\n",
        "print(df.head(10))\n",
        "print(df.head())\n",
        "print(df.tail())\n",
        "print(df.tail(5))\n",
        "print(df.info())\n"
      ],
      "metadata": {
        "id": "0-S7Gj8c-BYW"
      },
      "execution_count": null,
      "outputs": []
    },
    {
      "cell_type": "code",
      "source": [
        "# Data cleaning means fixing bad data in your data set.\n",
        "\n",
        "# Bad data could be:\n",
        "\n",
        "# Empty cells\n",
        "# Data in wrong format\n",
        "# Wrong data\n",
        "# Duplicates\n",
        "\n",
        "\n",
        "#HANDLING THE EMPTY CELLS\n",
        "\n",
        "import pandas as pd\n",
        "df = pd.read_csv(\"data.csv\")\n",
        "new_df = pd.dropna()  # it'll create the newDataframe by removing the empty cells\n",
        "pd.dropna(inplace=True) #It'll remove the empty cells on the original file itself\n",
        "\n",
        "pd.fillna(205, inplace=True) # it'll replace the empty values with 205.\n",
        "\n",
        "df['variety'].fillna(\"iris-setosa\", inplace=True)\n",
        "\n",
        "#We can use the mean & median values to replace\n",
        "\n",
        "valToReplaceWithMean = df['petal.width'].mean()\n",
        "\n",
        "valToReplaceWithMedian = df['petal.width'].median()\n",
        "\n",
        "df['petal.width'].fillna(valToReplaceWithMean, inplace=True)"
      ],
      "metadata": {
        "id": "UUzsIJhLbLWe"
      },
      "execution_count": null,
      "outputs": []
    },
    {
      "cell_type": "code",
      "source": [
        "# HANDLING THE WRONG FORMAT DATA\n",
        "\n",
        "import pandas as pd\n",
        "\n",
        "df = pd.read_csv('/content/sample_data/data.csv')\n",
        "df.dropna(subset=['sepal.width'], inplace=True)  #removing the NULL values from the 'sepal.width' column and updating the same dataframe\n",
        "df['sepal.width'] = pd.to_numeric(df['sepal.width'])\n",
        "\n",
        "# df['Date'] = pd.to_datetime(df['Date'])  #changing the format of column (In data.csv, we don't have datatime format)\n",
        "print(df)"
      ],
      "metadata": {
        "id": "Un8j3Lb-eSFk"
      },
      "execution_count": null,
      "outputs": []
    },
    {
      "cell_type": "code",
      "source": [
        "# HANDLING THE WRONG DATA\n",
        "\n",
        "import pandas as pd\n",
        "\n",
        "df = pd.read_csv(\"data.csv\")\n",
        "\n",
        "df.loc[4, \"sepal.length\"] = 5.2  # 4th row index and selecting column sepal.lenght and changing the value to 5.2\n",
        "df.loc[4] = 5.2  # it'll change the entire 4th row index values\n",
        "print(df)\n",
        "\n",
        "for i in df.index:\n",
        "  if df.loc[i, 'sepal.width'] > 6.1:\n",
        "    df.loc[i, 'sepal.width'] = 6.0 #option 1\n",
        "    df.drop(i, inplace=True) #option 2\n"
      ],
      "metadata": {
        "id": "nwjLndbVhSIM"
      },
      "execution_count": null,
      "outputs": []
    },
    {
      "cell_type": "code",
      "source": [
        "# HANDLING THE DUPLICATE VALUES\n",
        "\n",
        "import pandas as pd\n",
        "\n",
        "df = pd.read_csv('data.csv')\n",
        "\n",
        "df.duplicated()  # Returns True for every row that is a duplicate, othwerwise False\n",
        "\n",
        "df.drop_duplicates(inplace=True) # it'll remove all the duplicates.\n",
        "\n"
      ],
      "metadata": {
        "id": "CwqGBEmCjLrM"
      },
      "execution_count": null,
      "outputs": []
    },
    {
      "cell_type": "code",
      "source": [
        "# FINDING THE CORRELATION RELATION SHIP WITH EACH COLUMNS\n",
        "\n",
        "# The Result of the corr() method is a table with a lot of numbers that represents how well the relationship is between two columns.\n",
        "\n",
        "# The number varies from -1 to 1.\n",
        "\n",
        "# 1 means that there is a 1 to 1 relationship (a perfect correlation), and for this data set, each time a value went up in the first column, the other one went up as well.\n",
        "\n",
        "# 0.9 is also a good relationship, and if you increase one value, the other will probably increase as well.\n",
        "\n",
        "# -0.9 would be just as good relationship as 0.9, but if you increase one value, the other will probably go down.\n",
        "\n",
        "# 0.2 means NOT a good relationship, meaning that if one value goes up does not mean that the other will.\n",
        "\n",
        "import pandas as pd\n",
        "\n",
        "df = pd.read_csv('data.csv')\n",
        "df.corr()"
      ],
      "metadata": {
        "colab": {
          "base_uri": "https://localhost:8080/",
          "height": 231
        },
        "id": "kDjUfWKUk7_x",
        "outputId": "cc00c282-0a0f-49d3-f838-4416b8d71896"
      },
      "execution_count": 13,
      "outputs": [
        {
          "output_type": "stream",
          "name": "stderr",
          "text": [
            "<ipython-input-13-b42060a47666>:6: FutureWarning: The default value of numeric_only in DataFrame.corr is deprecated. In a future version, it will default to False. Select only valid columns or specify the value of numeric_only to silence this warning.\n",
            "  df.corr()\n"
          ]
        },
        {
          "output_type": "execute_result",
          "data": {
            "text/plain": [
              "              sepal.length  sepal.width  petal.length  petal.width\n",
              "sepal.length      1.000000    -0.109369      0.871754     0.817954\n",
              "sepal.width      -0.109369     1.000000     -0.420516    -0.356544\n",
              "petal.length      0.871754    -0.420516      1.000000     0.962757\n",
              "petal.width       0.817954    -0.356544      0.962757     1.000000"
            ],
            "text/html": [
              "\n",
              "  <div id=\"df-0dcd2206-399c-43f4-8931-ae5045ae0506\" class=\"colab-df-container\">\n",
              "    <div>\n",
              "<style scoped>\n",
              "    .dataframe tbody tr th:only-of-type {\n",
              "        vertical-align: middle;\n",
              "    }\n",
              "\n",
              "    .dataframe tbody tr th {\n",
              "        vertical-align: top;\n",
              "    }\n",
              "\n",
              "    .dataframe thead th {\n",
              "        text-align: right;\n",
              "    }\n",
              "</style>\n",
              "<table border=\"1\" class=\"dataframe\">\n",
              "  <thead>\n",
              "    <tr style=\"text-align: right;\">\n",
              "      <th></th>\n",
              "      <th>sepal.length</th>\n",
              "      <th>sepal.width</th>\n",
              "      <th>petal.length</th>\n",
              "      <th>petal.width</th>\n",
              "    </tr>\n",
              "  </thead>\n",
              "  <tbody>\n",
              "    <tr>\n",
              "      <th>sepal.length</th>\n",
              "      <td>1.000000</td>\n",
              "      <td>-0.109369</td>\n",
              "      <td>0.871754</td>\n",
              "      <td>0.817954</td>\n",
              "    </tr>\n",
              "    <tr>\n",
              "      <th>sepal.width</th>\n",
              "      <td>-0.109369</td>\n",
              "      <td>1.000000</td>\n",
              "      <td>-0.420516</td>\n",
              "      <td>-0.356544</td>\n",
              "    </tr>\n",
              "    <tr>\n",
              "      <th>petal.length</th>\n",
              "      <td>0.871754</td>\n",
              "      <td>-0.420516</td>\n",
              "      <td>1.000000</td>\n",
              "      <td>0.962757</td>\n",
              "    </tr>\n",
              "    <tr>\n",
              "      <th>petal.width</th>\n",
              "      <td>0.817954</td>\n",
              "      <td>-0.356544</td>\n",
              "      <td>0.962757</td>\n",
              "      <td>1.000000</td>\n",
              "    </tr>\n",
              "  </tbody>\n",
              "</table>\n",
              "</div>\n",
              "    <div class=\"colab-df-buttons\">\n",
              "\n",
              "  <div class=\"colab-df-container\">\n",
              "    <button class=\"colab-df-convert\" onclick=\"convertToInteractive('df-0dcd2206-399c-43f4-8931-ae5045ae0506')\"\n",
              "            title=\"Convert this dataframe to an interactive table.\"\n",
              "            style=\"display:none;\">\n",
              "\n",
              "  <svg xmlns=\"http://www.w3.org/2000/svg\" height=\"24px\" viewBox=\"0 -960 960 960\">\n",
              "    <path d=\"M120-120v-720h720v720H120Zm60-500h600v-160H180v160Zm220 220h160v-160H400v160Zm0 220h160v-160H400v160ZM180-400h160v-160H180v160Zm440 0h160v-160H620v160ZM180-180h160v-160H180v160Zm440 0h160v-160H620v160Z\"/>\n",
              "  </svg>\n",
              "    </button>\n",
              "\n",
              "  <style>\n",
              "    .colab-df-container {\n",
              "      display:flex;\n",
              "      gap: 12px;\n",
              "    }\n",
              "\n",
              "    .colab-df-convert {\n",
              "      background-color: #E8F0FE;\n",
              "      border: none;\n",
              "      border-radius: 50%;\n",
              "      cursor: pointer;\n",
              "      display: none;\n",
              "      fill: #1967D2;\n",
              "      height: 32px;\n",
              "      padding: 0 0 0 0;\n",
              "      width: 32px;\n",
              "    }\n",
              "\n",
              "    .colab-df-convert:hover {\n",
              "      background-color: #E2EBFA;\n",
              "      box-shadow: 0px 1px 2px rgba(60, 64, 67, 0.3), 0px 1px 3px 1px rgba(60, 64, 67, 0.15);\n",
              "      fill: #174EA6;\n",
              "    }\n",
              "\n",
              "    .colab-df-buttons div {\n",
              "      margin-bottom: 4px;\n",
              "    }\n",
              "\n",
              "    [theme=dark] .colab-df-convert {\n",
              "      background-color: #3B4455;\n",
              "      fill: #D2E3FC;\n",
              "    }\n",
              "\n",
              "    [theme=dark] .colab-df-convert:hover {\n",
              "      background-color: #434B5C;\n",
              "      box-shadow: 0px 1px 3px 1px rgba(0, 0, 0, 0.15);\n",
              "      filter: drop-shadow(0px 1px 2px rgba(0, 0, 0, 0.3));\n",
              "      fill: #FFFFFF;\n",
              "    }\n",
              "  </style>\n",
              "\n",
              "    <script>\n",
              "      const buttonEl =\n",
              "        document.querySelector('#df-0dcd2206-399c-43f4-8931-ae5045ae0506 button.colab-df-convert');\n",
              "      buttonEl.style.display =\n",
              "        google.colab.kernel.accessAllowed ? 'block' : 'none';\n",
              "\n",
              "      async function convertToInteractive(key) {\n",
              "        const element = document.querySelector('#df-0dcd2206-399c-43f4-8931-ae5045ae0506');\n",
              "        const dataTable =\n",
              "          await google.colab.kernel.invokeFunction('convertToInteractive',\n",
              "                                                    [key], {});\n",
              "        if (!dataTable) return;\n",
              "\n",
              "        const docLinkHtml = 'Like what you see? Visit the ' +\n",
              "          '<a target=\"_blank\" href=https://colab.research.google.com/notebooks/data_table.ipynb>data table notebook</a>'\n",
              "          + ' to learn more about interactive tables.';\n",
              "        element.innerHTML = '';\n",
              "        dataTable['output_type'] = 'display_data';\n",
              "        await google.colab.output.renderOutput(dataTable, element);\n",
              "        const docLink = document.createElement('div');\n",
              "        docLink.innerHTML = docLinkHtml;\n",
              "        element.appendChild(docLink);\n",
              "      }\n",
              "    </script>\n",
              "  </div>\n",
              "\n",
              "\n",
              "<div id=\"df-138ec043-fafd-4f77-8f1e-3707b9dbd643\">\n",
              "  <button class=\"colab-df-quickchart\" onclick=\"quickchart('df-138ec043-fafd-4f77-8f1e-3707b9dbd643')\"\n",
              "            title=\"Suggest charts.\"\n",
              "            style=\"display:none;\">\n",
              "\n",
              "<svg xmlns=\"http://www.w3.org/2000/svg\" height=\"24px\"viewBox=\"0 0 24 24\"\n",
              "     width=\"24px\">\n",
              "    <g>\n",
              "        <path d=\"M19 3H5c-1.1 0-2 .9-2 2v14c0 1.1.9 2 2 2h14c1.1 0 2-.9 2-2V5c0-1.1-.9-2-2-2zM9 17H7v-7h2v7zm4 0h-2V7h2v10zm4 0h-2v-4h2v4z\"/>\n",
              "    </g>\n",
              "</svg>\n",
              "  </button>\n",
              "\n",
              "<style>\n",
              "  .colab-df-quickchart {\n",
              "      --bg-color: #E8F0FE;\n",
              "      --fill-color: #1967D2;\n",
              "      --hover-bg-color: #E2EBFA;\n",
              "      --hover-fill-color: #174EA6;\n",
              "      --disabled-fill-color: #AAA;\n",
              "      --disabled-bg-color: #DDD;\n",
              "  }\n",
              "\n",
              "  [theme=dark] .colab-df-quickchart {\n",
              "      --bg-color: #3B4455;\n",
              "      --fill-color: #D2E3FC;\n",
              "      --hover-bg-color: #434B5C;\n",
              "      --hover-fill-color: #FFFFFF;\n",
              "      --disabled-bg-color: #3B4455;\n",
              "      --disabled-fill-color: #666;\n",
              "  }\n",
              "\n",
              "  .colab-df-quickchart {\n",
              "    background-color: var(--bg-color);\n",
              "    border: none;\n",
              "    border-radius: 50%;\n",
              "    cursor: pointer;\n",
              "    display: none;\n",
              "    fill: var(--fill-color);\n",
              "    height: 32px;\n",
              "    padding: 0;\n",
              "    width: 32px;\n",
              "  }\n",
              "\n",
              "  .colab-df-quickchart:hover {\n",
              "    background-color: var(--hover-bg-color);\n",
              "    box-shadow: 0 1px 2px rgba(60, 64, 67, 0.3), 0 1px 3px 1px rgba(60, 64, 67, 0.15);\n",
              "    fill: var(--button-hover-fill-color);\n",
              "  }\n",
              "\n",
              "  .colab-df-quickchart-complete:disabled,\n",
              "  .colab-df-quickchart-complete:disabled:hover {\n",
              "    background-color: var(--disabled-bg-color);\n",
              "    fill: var(--disabled-fill-color);\n",
              "    box-shadow: none;\n",
              "  }\n",
              "\n",
              "  .colab-df-spinner {\n",
              "    border: 2px solid var(--fill-color);\n",
              "    border-color: transparent;\n",
              "    border-bottom-color: var(--fill-color);\n",
              "    animation:\n",
              "      spin 1s steps(1) infinite;\n",
              "  }\n",
              "\n",
              "  @keyframes spin {\n",
              "    0% {\n",
              "      border-color: transparent;\n",
              "      border-bottom-color: var(--fill-color);\n",
              "      border-left-color: var(--fill-color);\n",
              "    }\n",
              "    20% {\n",
              "      border-color: transparent;\n",
              "      border-left-color: var(--fill-color);\n",
              "      border-top-color: var(--fill-color);\n",
              "    }\n",
              "    30% {\n",
              "      border-color: transparent;\n",
              "      border-left-color: var(--fill-color);\n",
              "      border-top-color: var(--fill-color);\n",
              "      border-right-color: var(--fill-color);\n",
              "    }\n",
              "    40% {\n",
              "      border-color: transparent;\n",
              "      border-right-color: var(--fill-color);\n",
              "      border-top-color: var(--fill-color);\n",
              "    }\n",
              "    60% {\n",
              "      border-color: transparent;\n",
              "      border-right-color: var(--fill-color);\n",
              "    }\n",
              "    80% {\n",
              "      border-color: transparent;\n",
              "      border-right-color: var(--fill-color);\n",
              "      border-bottom-color: var(--fill-color);\n",
              "    }\n",
              "    90% {\n",
              "      border-color: transparent;\n",
              "      border-bottom-color: var(--fill-color);\n",
              "    }\n",
              "  }\n",
              "</style>\n",
              "\n",
              "  <script>\n",
              "    async function quickchart(key) {\n",
              "      const quickchartButtonEl =\n",
              "        document.querySelector('#' + key + ' button');\n",
              "      quickchartButtonEl.disabled = true;  // To prevent multiple clicks.\n",
              "      quickchartButtonEl.classList.add('colab-df-spinner');\n",
              "      try {\n",
              "        const charts = await google.colab.kernel.invokeFunction(\n",
              "            'suggestCharts', [key], {});\n",
              "      } catch (error) {\n",
              "        console.error('Error during call to suggestCharts:', error);\n",
              "      }\n",
              "      quickchartButtonEl.classList.remove('colab-df-spinner');\n",
              "      quickchartButtonEl.classList.add('colab-df-quickchart-complete');\n",
              "    }\n",
              "    (() => {\n",
              "      let quickchartButtonEl =\n",
              "        document.querySelector('#df-138ec043-fafd-4f77-8f1e-3707b9dbd643 button');\n",
              "      quickchartButtonEl.style.display =\n",
              "        google.colab.kernel.accessAllowed ? 'block' : 'none';\n",
              "    })();\n",
              "  </script>\n",
              "</div>\n",
              "    </div>\n",
              "  </div>\n"
            ]
          },
          "metadata": {},
          "execution_count": 13
        }
      ]
    },
    {
      "cell_type": "code",
      "source": [
        "# PLOTTING USING PANDAS (Jus for knowledge)\n",
        "\n",
        "import pandas as pd\n",
        "import matplotlib as plt\n",
        "\n",
        "df = pd.read_csv('data.csv')\n",
        "\n",
        "df.plot(kind='scatter',x='petal.width',y='petal.length')\n",
        "df['sepal.width'].plot(kind='hist')\n",
        "plt.show()"
      ],
      "metadata": {
        "id": "DCqiHLJelz1P"
      },
      "execution_count": null,
      "outputs": []
    },
    {
      "cell_type": "code",
      "source": [
        "#OTHER IMPORTANT FUNCTIONS OF PANDAS\n",
        "\n",
        "import pandas as pd\n",
        "\n",
        "df = pd.read_csv('data.csv') # keeping the sepal.length column as index column\n",
        "# print(df.loc[5.1])\n",
        "\n",
        "# print(df.isnull())  #will return if any null values\n",
        "# print(len(df.isnull()))\n",
        "\n",
        "print(list(df))  # it'll return only the column names\n",
        "\n",
        "\n"
      ],
      "metadata": {
        "id": "CbbURUvanD5d"
      },
      "execution_count": null,
      "outputs": []
    }
  ]
}